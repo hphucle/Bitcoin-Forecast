{
 "cells": [
  {
   "cell_type": "code",
   "execution_count": 1,
   "metadata": {},
   "outputs": [],
   "source": [
    "import pandas as pd\n",
    "import numpy as np\n",
    "import matplotlib.pyplot as plt\n",
    "import seaborn as sns\n",
    "from sklearn.preprocessing import MinMaxScaler\n",
    "from sklearn.metrics import mean_squared_error"
   ]
  },
  {
   "cell_type": "markdown",
   "metadata": {},
   "source": [
    "## Import the Data "
   ]
  },
  {
   "cell_type": "code",
   "execution_count": 2,
   "metadata": {},
   "outputs": [
    {
     "data": {
      "text/html": [
       "<div>\n",
       "<style scoped>\n",
       "    .dataframe tbody tr th:only-of-type {\n",
       "        vertical-align: middle;\n",
       "    }\n",
       "\n",
       "    .dataframe tbody tr th {\n",
       "        vertical-align: top;\n",
       "    }\n",
       "\n",
       "    .dataframe thead th {\n",
       "        text-align: right;\n",
       "    }\n",
       "</style>\n",
       "<table border=\"1\" class=\"dataframe\">\n",
       "  <thead>\n",
       "    <tr style=\"text-align: right;\">\n",
       "      <th></th>\n",
       "      <th>Date</th>\n",
       "      <th>Month</th>\n",
       "      <th>Year</th>\n",
       "      <th>VOL1</th>\n",
       "      <th>VOL7</th>\n",
       "      <th>VOL30</th>\n",
       "      <th>ClosePrice</th>\n",
       "      <th>OpenPrice</th>\n",
       "      <th>HighPrice</th>\n",
       "      <th>LowPrice</th>\n",
       "      <th>...</th>\n",
       "      <th>SP500</th>\n",
       "      <th>RUSSELL</th>\n",
       "      <th>Oil</th>\n",
       "      <th>Gold</th>\n",
       "      <th>Silver</th>\n",
       "      <th>USDEUR</th>\n",
       "      <th>USDYUAN</th>\n",
       "      <th>Interest Rate</th>\n",
       "      <th>Economic Uncertainty</th>\n",
       "      <th>Crypto Index</th>\n",
       "    </tr>\n",
       "  </thead>\n",
       "  <tbody>\n",
       "    <tr>\n",
       "      <th>0</th>\n",
       "      <td>04/02/2018</td>\n",
       "      <td>2</td>\n",
       "      <td>2018</td>\n",
       "      <td>0.058984</td>\n",
       "      <td>0.104624</td>\n",
       "      <td>0.204218</td>\n",
       "      <td>8277.01</td>\n",
       "      <td>9175.70</td>\n",
       "      <td>9334.87</td>\n",
       "      <td>8031.22</td>\n",
       "      <td>...</td>\n",
       "      <td>2648.94</td>\n",
       "      <td>1491.09</td>\n",
       "      <td>64.18</td>\n",
       "      <td>1336.5</td>\n",
       "      <td>16.71</td>\n",
       "      <td>0.80</td>\n",
       "      <td>6.30</td>\n",
       "      <td>1.80</td>\n",
       "      <td>0.234505</td>\n",
       "      <td>30</td>\n",
       "    </tr>\n",
       "    <tr>\n",
       "      <th>1</th>\n",
       "      <td>05/02/2018</td>\n",
       "      <td>2</td>\n",
       "      <td>2018</td>\n",
       "      <td>0.082982</td>\n",
       "      <td>0.130688</td>\n",
       "      <td>0.219808</td>\n",
       "      <td>6955.27</td>\n",
       "      <td>8270.54</td>\n",
       "      <td>8364.84</td>\n",
       "      <td>6756.68</td>\n",
       "      <td>...</td>\n",
       "      <td>2648.94</td>\n",
       "      <td>1491.09</td>\n",
       "      <td>64.18</td>\n",
       "      <td>1336.5</td>\n",
       "      <td>16.67</td>\n",
       "      <td>0.80</td>\n",
       "      <td>6.31</td>\n",
       "      <td>1.80</td>\n",
       "      <td>0.248054</td>\n",
       "      <td>15</td>\n",
       "    </tr>\n",
       "    <tr>\n",
       "      <th>2</th>\n",
       "      <td>06/02/2018</td>\n",
       "      <td>2</td>\n",
       "      <td>2018</td>\n",
       "      <td>0.041061</td>\n",
       "      <td>0.134668</td>\n",
       "      <td>0.221316</td>\n",
       "      <td>7754.00</td>\n",
       "      <td>7051.75</td>\n",
       "      <td>7850.70</td>\n",
       "      <td>6048.26</td>\n",
       "      <td>...</td>\n",
       "      <td>2695.14</td>\n",
       "      <td>1507.17</td>\n",
       "      <td>63.48</td>\n",
       "      <td>1329.5</td>\n",
       "      <td>16.58</td>\n",
       "      <td>0.81</td>\n",
       "      <td>6.29</td>\n",
       "      <td>1.82</td>\n",
       "      <td>0.223228</td>\n",
       "      <td>40</td>\n",
       "    </tr>\n",
       "    <tr>\n",
       "      <th>3</th>\n",
       "      <td>07/02/2018</td>\n",
       "      <td>2</td>\n",
       "      <td>2018</td>\n",
       "      <td>0.041213</td>\n",
       "      <td>0.136422</td>\n",
       "      <td>0.222866</td>\n",
       "      <td>7621.30</td>\n",
       "      <td>7755.49</td>\n",
       "      <td>8509.11</td>\n",
       "      <td>7236.79</td>\n",
       "      <td>...</td>\n",
       "      <td>2681.66</td>\n",
       "      <td>1507.97</td>\n",
       "      <td>61.91</td>\n",
       "      <td>1314.6</td>\n",
       "      <td>16.24</td>\n",
       "      <td>0.81</td>\n",
       "      <td>6.28</td>\n",
       "      <td>1.85</td>\n",
       "      <td>0.201785</td>\n",
       "      <td>24</td>\n",
       "    </tr>\n",
       "    <tr>\n",
       "      <th>4</th>\n",
       "      <td>08/02/2018</td>\n",
       "      <td>2</td>\n",
       "      <td>2018</td>\n",
       "      <td>0.030796</td>\n",
       "      <td>0.130387</td>\n",
       "      <td>0.222486</td>\n",
       "      <td>8265.59</td>\n",
       "      <td>7637.86</td>\n",
       "      <td>8558.77</td>\n",
       "      <td>7637.86</td>\n",
       "      <td>...</td>\n",
       "      <td>2581.00</td>\n",
       "      <td>1463.79</td>\n",
       "      <td>61.30</td>\n",
       "      <td>1319.0</td>\n",
       "      <td>16.34</td>\n",
       "      <td>0.82</td>\n",
       "      <td>6.27</td>\n",
       "      <td>1.85</td>\n",
       "      <td>0.183604</td>\n",
       "      <td>11</td>\n",
       "    </tr>\n",
       "  </tbody>\n",
       "</table>\n",
       "<p>5 rows × 27 columns</p>\n",
       "</div>"
      ],
      "text/plain": [
       "         Date  Month  Year      VOL1      VOL7     VOL30  ClosePrice   \\\n",
       "0  04/02/2018      2  2018  0.058984  0.104624  0.204218      8277.01   \n",
       "1  05/02/2018      2  2018  0.082982  0.130688  0.219808      6955.27   \n",
       "2  06/02/2018      2  2018  0.041061  0.134668  0.221316      7754.00   \n",
       "3  07/02/2018      2  2018  0.041213  0.136422  0.222866      7621.30   \n",
       "4  08/02/2018      2  2018  0.030796  0.130387  0.222486      8265.59   \n",
       "\n",
       "   OpenPrice  HighPrice  LowPrice  ...    SP500  RUSSELL    Oil    Gold  \\\n",
       "0    9175.70    9334.87   8031.22  ...  2648.94  1491.09  64.18  1336.5   \n",
       "1    8270.54    8364.84   6756.68  ...  2648.94  1491.09  64.18  1336.5   \n",
       "2    7051.75    7850.70   6048.26  ...  2695.14  1507.17  63.48  1329.5   \n",
       "3    7755.49    8509.11   7236.79  ...  2681.66  1507.97  61.91  1314.6   \n",
       "4    7637.86    8558.77   7637.86  ...  2581.00  1463.79  61.30  1319.0   \n",
       "\n",
       "   Silver  USDEUR  USDYUAN  Interest Rate  Economic Uncertainty  Crypto Index  \n",
       "0   16.71    0.80     6.30           1.80              0.234505            30  \n",
       "1   16.67    0.80     6.31           1.80              0.248054            15  \n",
       "2   16.58    0.81     6.29           1.82              0.223228            40  \n",
       "3   16.24    0.81     6.28           1.85              0.201785            24  \n",
       "4   16.34    0.82     6.27           1.85              0.183604            11  \n",
       "\n",
       "[5 rows x 27 columns]"
      ]
     },
     "execution_count": 2,
     "metadata": {},
     "output_type": "execute_result"
    }
   ],
   "source": [
    "df = pd.read_csv('BTC_Trial_NB.csv')\n",
    "df.head()"
   ]
  },
  {
   "cell_type": "code",
   "execution_count": 3,
   "metadata": {},
   "outputs": [
    {
     "data": {
      "text/html": [
       "<div>\n",
       "<style scoped>\n",
       "    .dataframe tbody tr th:only-of-type {\n",
       "        vertical-align: middle;\n",
       "    }\n",
       "\n",
       "    .dataframe tbody tr th {\n",
       "        vertical-align: top;\n",
       "    }\n",
       "\n",
       "    .dataframe thead th {\n",
       "        text-align: right;\n",
       "    }\n",
       "</style>\n",
       "<table border=\"1\" class=\"dataframe\">\n",
       "  <thead>\n",
       "    <tr style=\"text-align: right;\">\n",
       "      <th></th>\n",
       "      <th>VOL1</th>\n",
       "      <th>VOL7</th>\n",
       "      <th>VOL30</th>\n",
       "      <th>ClosePrice</th>\n",
       "      <th>OpenPrice</th>\n",
       "      <th>HighPrice</th>\n",
       "      <th>LowPrice</th>\n",
       "      <th>Market Volumn</th>\n",
       "      <th>Average Block Size</th>\n",
       "      <th>Average Transaction Per Block</th>\n",
       "      <th>...</th>\n",
       "      <th>SP500</th>\n",
       "      <th>RUSSELL</th>\n",
       "      <th>Oil</th>\n",
       "      <th>Gold</th>\n",
       "      <th>Silver</th>\n",
       "      <th>USDEUR</th>\n",
       "      <th>USDYUAN</th>\n",
       "      <th>Interest Rate</th>\n",
       "      <th>Economic Uncertainty</th>\n",
       "      <th>Crypto Index</th>\n",
       "    </tr>\n",
       "  </thead>\n",
       "  <tbody>\n",
       "    <tr>\n",
       "      <th>0</th>\n",
       "      <td>0.058984</td>\n",
       "      <td>0.104624</td>\n",
       "      <td>0.204218</td>\n",
       "      <td>8277.01</td>\n",
       "      <td>9175.70</td>\n",
       "      <td>9334.87</td>\n",
       "      <td>8031.22</td>\n",
       "      <td>7.073550e+09</td>\n",
       "      <td>0.99</td>\n",
       "      <td>975.77</td>\n",
       "      <td>...</td>\n",
       "      <td>2648.94</td>\n",
       "      <td>1491.09</td>\n",
       "      <td>64.18</td>\n",
       "      <td>1336.5</td>\n",
       "      <td>16.71</td>\n",
       "      <td>0.80</td>\n",
       "      <td>6.30</td>\n",
       "      <td>1.80</td>\n",
       "      <td>0.234505</td>\n",
       "      <td>30</td>\n",
       "    </tr>\n",
       "    <tr>\n",
       "      <th>1</th>\n",
       "      <td>0.082982</td>\n",
       "      <td>0.130688</td>\n",
       "      <td>0.219808</td>\n",
       "      <td>6955.27</td>\n",
       "      <td>8270.54</td>\n",
       "      <td>8364.84</td>\n",
       "      <td>6756.68</td>\n",
       "      <td>9.285290e+09</td>\n",
       "      <td>1.10</td>\n",
       "      <td>1169.53</td>\n",
       "      <td>...</td>\n",
       "      <td>2648.94</td>\n",
       "      <td>1491.09</td>\n",
       "      <td>64.18</td>\n",
       "      <td>1336.5</td>\n",
       "      <td>16.67</td>\n",
       "      <td>0.80</td>\n",
       "      <td>6.31</td>\n",
       "      <td>1.80</td>\n",
       "      <td>0.248054</td>\n",
       "      <td>15</td>\n",
       "    </tr>\n",
       "    <tr>\n",
       "      <th>2</th>\n",
       "      <td>0.041061</td>\n",
       "      <td>0.134668</td>\n",
       "      <td>0.221316</td>\n",
       "      <td>7754.00</td>\n",
       "      <td>7051.75</td>\n",
       "      <td>7850.70</td>\n",
       "      <td>6048.26</td>\n",
       "      <td>1.399980e+10</td>\n",
       "      <td>1.07</td>\n",
       "      <td>1436.00</td>\n",
       "      <td>...</td>\n",
       "      <td>2695.14</td>\n",
       "      <td>1507.17</td>\n",
       "      <td>63.48</td>\n",
       "      <td>1329.5</td>\n",
       "      <td>16.58</td>\n",
       "      <td>0.81</td>\n",
       "      <td>6.29</td>\n",
       "      <td>1.82</td>\n",
       "      <td>0.223228</td>\n",
       "      <td>40</td>\n",
       "    </tr>\n",
       "    <tr>\n",
       "      <th>3</th>\n",
       "      <td>0.041213</td>\n",
       "      <td>0.136422</td>\n",
       "      <td>0.222866</td>\n",
       "      <td>7621.30</td>\n",
       "      <td>7755.49</td>\n",
       "      <td>8509.11</td>\n",
       "      <td>7236.79</td>\n",
       "      <td>9.169280e+09</td>\n",
       "      <td>1.07</td>\n",
       "      <td>1515.74</td>\n",
       "      <td>...</td>\n",
       "      <td>2681.66</td>\n",
       "      <td>1507.97</td>\n",
       "      <td>61.91</td>\n",
       "      <td>1314.6</td>\n",
       "      <td>16.24</td>\n",
       "      <td>0.81</td>\n",
       "      <td>6.28</td>\n",
       "      <td>1.85</td>\n",
       "      <td>0.201785</td>\n",
       "      <td>24</td>\n",
       "    </tr>\n",
       "    <tr>\n",
       "      <th>4</th>\n",
       "      <td>0.030796</td>\n",
       "      <td>0.130387</td>\n",
       "      <td>0.222486</td>\n",
       "      <td>8265.59</td>\n",
       "      <td>7637.86</td>\n",
       "      <td>8558.77</td>\n",
       "      <td>7637.86</td>\n",
       "      <td>9.346750e+09</td>\n",
       "      <td>1.05</td>\n",
       "      <td>1322.82</td>\n",
       "      <td>...</td>\n",
       "      <td>2581.00</td>\n",
       "      <td>1463.79</td>\n",
       "      <td>61.30</td>\n",
       "      <td>1319.0</td>\n",
       "      <td>16.34</td>\n",
       "      <td>0.82</td>\n",
       "      <td>6.27</td>\n",
       "      <td>1.85</td>\n",
       "      <td>0.183604</td>\n",
       "      <td>11</td>\n",
       "    </tr>\n",
       "  </tbody>\n",
       "</table>\n",
       "<p>5 rows × 23 columns</p>\n",
       "</div>"
      ],
      "text/plain": [
       "       VOL1      VOL7     VOL30  ClosePrice   OpenPrice  HighPrice  LowPrice  \\\n",
       "0  0.058984  0.104624  0.204218      8277.01    9175.70    9334.87   8031.22   \n",
       "1  0.082982  0.130688  0.219808      6955.27    8270.54    8364.84   6756.68   \n",
       "2  0.041061  0.134668  0.221316      7754.00    7051.75    7850.70   6048.26   \n",
       "3  0.041213  0.136422  0.222866      7621.30    7755.49    8509.11   7236.79   \n",
       "4  0.030796  0.130387  0.222486      8265.59    7637.86    8558.77   7637.86   \n",
       "\n",
       "   Market Volumn  Average Block Size  Average Transaction Per Block  ...  \\\n",
       "0   7.073550e+09                0.99                         975.77  ...   \n",
       "1   9.285290e+09                1.10                        1169.53  ...   \n",
       "2   1.399980e+10                1.07                        1436.00  ...   \n",
       "3   9.169280e+09                1.07                        1515.74  ...   \n",
       "4   9.346750e+09                1.05                        1322.82  ...   \n",
       "\n",
       "     SP500  RUSSELL    Oil    Gold  Silver  USDEUR  USDYUAN  Interest Rate  \\\n",
       "0  2648.94  1491.09  64.18  1336.5   16.71    0.80     6.30           1.80   \n",
       "1  2648.94  1491.09  64.18  1336.5   16.67    0.80     6.31           1.80   \n",
       "2  2695.14  1507.17  63.48  1329.5   16.58    0.81     6.29           1.82   \n",
       "3  2681.66  1507.97  61.91  1314.6   16.24    0.81     6.28           1.85   \n",
       "4  2581.00  1463.79  61.30  1319.0   16.34    0.82     6.27           1.85   \n",
       "\n",
       "   Economic Uncertainty  Crypto Index  \n",
       "0              0.234505            30  \n",
       "1              0.248054            15  \n",
       "2              0.223228            40  \n",
       "3              0.201785            24  \n",
       "4              0.183604            11  \n",
       "\n",
       "[5 rows x 23 columns]"
      ]
     },
     "execution_count": 3,
     "metadata": {},
     "output_type": "execute_result"
    }
   ],
   "source": [
    "df['Date'] = pd.to_datetime(df['Date'], dayfirst=True)\n",
    "df = df.drop(['Date', 'Month', 'Year', 'Network Difficulty'],axis=1)\n",
    "df.head()"
   ]
  },
  {
   "cell_type": "code",
   "execution_count": 4,
   "metadata": {},
   "outputs": [
    {
     "name": "stdout",
     "output_type": "stream",
     "text": [
      "<class 'pandas.core.frame.DataFrame'>\n",
      "RangeIndex: 2310 entries, 0 to 2309\n",
      "Data columns (total 23 columns):\n",
      " #   Column                         Non-Null Count  Dtype  \n",
      "---  ------                         --------------  -----  \n",
      " 0   VOL1                           2310 non-null   float64\n",
      " 1   VOL7                           2310 non-null   float64\n",
      " 2   VOL30                          2310 non-null   float64\n",
      " 3   ClosePrice                     2310 non-null   float64\n",
      " 4   OpenPrice                      2310 non-null   float64\n",
      " 5   HighPrice                      2310 non-null   float64\n",
      " 6   LowPrice                       2310 non-null   float64\n",
      " 7   Market Volumn                  2310 non-null   float64\n",
      " 8   Average Block Size             2310 non-null   float64\n",
      " 9   Average Transaction Per Block  2310 non-null   float64\n",
      " 10  Hash Rate                      2310 non-null   float64\n",
      " 11  Unique Addresses               2310 non-null   int64  \n",
      " 12  Transactions Per Second        2310 non-null   float64\n",
      " 13  SP500                          2310 non-null   float64\n",
      " 14  RUSSELL                        2310 non-null   float64\n",
      " 15  Oil                            2310 non-null   float64\n",
      " 16  Gold                           2310 non-null   float64\n",
      " 17  Silver                         2310 non-null   float64\n",
      " 18  USDEUR                         2310 non-null   float64\n",
      " 19  USDYUAN                        2310 non-null   float64\n",
      " 20  Interest Rate                  2310 non-null   float64\n",
      " 21  Economic Uncertainty           2310 non-null   float64\n",
      " 22  Crypto Index                   2310 non-null   int64  \n",
      "dtypes: float64(21), int64(2)\n",
      "memory usage: 415.2 KB\n"
     ]
    }
   ],
   "source": [
    "pd.set_option('display.max_columns', None)\n",
    "df.info()"
   ]
  },
  {
   "cell_type": "code",
   "execution_count": 5,
   "metadata": {},
   "outputs": [
    {
     "data": {
      "text/plain": [
       "VOL1                             0\n",
       "VOL7                             0\n",
       "VOL30                            0\n",
       "ClosePrice                       0\n",
       "OpenPrice                        0\n",
       "HighPrice                        0\n",
       "LowPrice                         0\n",
       "Market Volumn                    0\n",
       "Average Block Size               0\n",
       "Average Transaction Per Block    0\n",
       "Hash Rate                        0\n",
       "Unique Addresses                 0\n",
       "Transactions Per Second          0\n",
       "SP500                            0\n",
       "RUSSELL                          0\n",
       "Oil                              0\n",
       "Gold                             0\n",
       "Silver                           0\n",
       "USDEUR                           0\n",
       "USDYUAN                          0\n",
       "Interest Rate                    0\n",
       "Economic Uncertainty             0\n",
       "Crypto Index                     0\n",
       "dtype: int64"
      ]
     },
     "execution_count": 5,
     "metadata": {},
     "output_type": "execute_result"
    }
   ],
   "source": [
    "df.isna().sum()"
   ]
  },
  {
   "cell_type": "markdown",
   "metadata": {},
   "source": [
    "## 1. Data Preprocessing"
   ]
  },
  {
   "cell_type": "markdown",
   "metadata": {},
   "source": [
    "### 1.2 Scale the data"
   ]
  },
  {
   "cell_type": "code",
   "execution_count": 6,
   "metadata": {},
   "outputs": [],
   "source": [
    "from sklearn import preprocessing\n",
    "\n",
    "df_for_training=df[:1848]\n",
    "df_for_testing=df[1848:]\n",
    "\n",
    "scaler = preprocessing.MinMaxScaler()\n",
    "df_for_training_scaled = scaler.fit_transform(df_for_training)\n",
    "\n",
    "df_for_testing_scaled=scaler.transform(df_for_testing)"
   ]
  },
  {
   "cell_type": "code",
   "execution_count": 7,
   "metadata": {},
   "outputs": [
    {
     "data": {
      "text/plain": [
       "((1848, 23), (462, 23))"
      ]
     },
     "execution_count": 7,
     "metadata": {},
     "output_type": "execute_result"
    }
   ],
   "source": [
    "df_for_training_scaled.shape, df_for_testing_scaled.shape"
   ]
  },
  {
   "cell_type": "markdown",
   "metadata": {},
   "source": [
    "### 1.3 Create the reshaped input vector for the LSTM model "
   ]
  },
  {
   "cell_type": "code",
   "execution_count": 8,
   "metadata": {},
   "outputs": [],
   "source": [
    "def createXY(dataset,n_past):\n",
    "    dataX = []\n",
    "    dataY = []\n",
    "    for i in range(n_past, len(dataset)):\n",
    "            dataX.append(dataset[i - n_past:i, 0:dataset.shape[1]])\n",
    "            dataY.append(dataset[i,0])\n",
    "    return np.array(dataX),np.array(dataY)"
   ]
  },
  {
   "cell_type": "markdown",
   "metadata": {},
   "source": [
    "The input of the model is the scaled data of the closing price, with the time atep (window) of 30 observations"
   ]
  },
  {
   "cell_type": "code",
   "execution_count": 9,
   "metadata": {},
   "outputs": [],
   "source": [
    "trainX,trainY=createXY(df_for_training_scaled,30)\n",
    "testX,testY=createXY(df_for_testing_scaled,30)"
   ]
  },
  {
   "cell_type": "code",
   "execution_count": 10,
   "metadata": {},
   "outputs": [
    {
     "data": {
      "text/plain": [
       "((1818, 30, 23), (1818,), (432, 30, 23), (432,))"
      ]
     },
     "execution_count": 10,
     "metadata": {},
     "output_type": "execute_result"
    }
   ],
   "source": [
    "trainX.shape, trainY.shape, testX.shape, testY.shape"
   ]
  },
  {
   "cell_type": "markdown",
   "metadata": {},
   "source": [
    "## 2. Deep learning modelling: LSTM model with 1 LSTM layer and 2 Dense layers (Vanilla)"
   ]
  },
  {
   "cell_type": "markdown",
   "metadata": {},
   "source": [
    "### 2.1 Fitting the model"
   ]
  },
  {
   "cell_type": "code",
   "execution_count": 11,
   "metadata": {},
   "outputs": [],
   "source": [
    "from tensorflow.keras.models import Sequential\n",
    "from tensorflow.keras.layers  import *\n",
    "from tensorflow.keras.losses import MeanSquaredError \n",
    "from tensorflow.keras.metrics import RootMeanSquaredError\n",
    "from tensorflow.keras.optimizers import Adam"
   ]
  },
  {
   "cell_type": "code",
   "execution_count": 12,
   "metadata": {},
   "outputs": [
    {
     "data": {
      "text/html": [
       "<pre style=\"white-space:pre;overflow-x:auto;line-height:normal;font-family:Menlo,'DejaVu Sans Mono',consolas,'Courier New',monospace\"><span style=\"font-weight: bold\">Model: \"sequential\"</span>\n",
       "</pre>\n"
      ],
      "text/plain": [
       "\u001b[1mModel: \"sequential\"\u001b[0m\n"
      ]
     },
     "metadata": {},
     "output_type": "display_data"
    },
    {
     "data": {
      "text/html": [
       "<pre style=\"white-space:pre;overflow-x:auto;line-height:normal;font-family:Menlo,'DejaVu Sans Mono',consolas,'Courier New',monospace\">┏━━━━━━━━━━━━━━━━━━━━━━━━━━━━━━━━━┳━━━━━━━━━━━━━━━━━━━━━━━━┳━━━━━━━━━━━━━━━┓\n",
       "┃<span style=\"font-weight: bold\"> Layer (type)                    </span>┃<span style=\"font-weight: bold\"> Output Shape           </span>┃<span style=\"font-weight: bold\">       Param # </span>┃\n",
       "┡━━━━━━━━━━━━━━━━━━━━━━━━━━━━━━━━━╇━━━━━━━━━━━━━━━━━━━━━━━━╇━━━━━━━━━━━━━━━┩\n",
       "│ lstm (<span style=\"color: #0087ff; text-decoration-color: #0087ff\">LSTM</span>)                     │ (<span style=\"color: #00d7ff; text-decoration-color: #00d7ff\">None</span>, <span style=\"color: #00af00; text-decoration-color: #00af00\">64</span>)             │        <span style=\"color: #00af00; text-decoration-color: #00af00\">22,528</span> │\n",
       "├─────────────────────────────────┼────────────────────────┼───────────────┤\n",
       "│ dense (<span style=\"color: #0087ff; text-decoration-color: #0087ff\">Dense</span>)                   │ (<span style=\"color: #00d7ff; text-decoration-color: #00d7ff\">None</span>, <span style=\"color: #00af00; text-decoration-color: #00af00\">8</span>)              │           <span style=\"color: #00af00; text-decoration-color: #00af00\">520</span> │\n",
       "├─────────────────────────────────┼────────────────────────┼───────────────┤\n",
       "│ dense_1 (<span style=\"color: #0087ff; text-decoration-color: #0087ff\">Dense</span>)                 │ (<span style=\"color: #00d7ff; text-decoration-color: #00d7ff\">None</span>, <span style=\"color: #00af00; text-decoration-color: #00af00\">1</span>)              │             <span style=\"color: #00af00; text-decoration-color: #00af00\">9</span> │\n",
       "└─────────────────────────────────┴────────────────────────┴───────────────┘\n",
       "</pre>\n"
      ],
      "text/plain": [
       "┏━━━━━━━━━━━━━━━━━━━━━━━━━━━━━━━━━┳━━━━━━━━━━━━━━━━━━━━━━━━┳━━━━━━━━━━━━━━━┓\n",
       "┃\u001b[1m \u001b[0m\u001b[1mLayer (type)                   \u001b[0m\u001b[1m \u001b[0m┃\u001b[1m \u001b[0m\u001b[1mOutput Shape          \u001b[0m\u001b[1m \u001b[0m┃\u001b[1m \u001b[0m\u001b[1m      Param #\u001b[0m\u001b[1m \u001b[0m┃\n",
       "┡━━━━━━━━━━━━━━━━━━━━━━━━━━━━━━━━━╇━━━━━━━━━━━━━━━━━━━━━━━━╇━━━━━━━━━━━━━━━┩\n",
       "│ lstm (\u001b[38;5;33mLSTM\u001b[0m)                     │ (\u001b[38;5;45mNone\u001b[0m, \u001b[38;5;34m64\u001b[0m)             │        \u001b[38;5;34m22,528\u001b[0m │\n",
       "├─────────────────────────────────┼────────────────────────┼───────────────┤\n",
       "│ dense (\u001b[38;5;33mDense\u001b[0m)                   │ (\u001b[38;5;45mNone\u001b[0m, \u001b[38;5;34m8\u001b[0m)              │           \u001b[38;5;34m520\u001b[0m │\n",
       "├─────────────────────────────────┼────────────────────────┼───────────────┤\n",
       "│ dense_1 (\u001b[38;5;33mDense\u001b[0m)                 │ (\u001b[38;5;45mNone\u001b[0m, \u001b[38;5;34m1\u001b[0m)              │             \u001b[38;5;34m9\u001b[0m │\n",
       "└─────────────────────────────────┴────────────────────────┴───────────────┘\n"
      ]
     },
     "metadata": {},
     "output_type": "display_data"
    },
    {
     "data": {
      "text/html": [
       "<pre style=\"white-space:pre;overflow-x:auto;line-height:normal;font-family:Menlo,'DejaVu Sans Mono',consolas,'Courier New',monospace\"><span style=\"font-weight: bold\"> Total params: </span><span style=\"color: #00af00; text-decoration-color: #00af00\">23,057</span> (90.07 KB)\n",
       "</pre>\n"
      ],
      "text/plain": [
       "\u001b[1m Total params: \u001b[0m\u001b[38;5;34m23,057\u001b[0m (90.07 KB)\n"
      ]
     },
     "metadata": {},
     "output_type": "display_data"
    },
    {
     "data": {
      "text/html": [
       "<pre style=\"white-space:pre;overflow-x:auto;line-height:normal;font-family:Menlo,'DejaVu Sans Mono',consolas,'Courier New',monospace\"><span style=\"font-weight: bold\"> Trainable params: </span><span style=\"color: #00af00; text-decoration-color: #00af00\">23,057</span> (90.07 KB)\n",
       "</pre>\n"
      ],
      "text/plain": [
       "\u001b[1m Trainable params: \u001b[0m\u001b[38;5;34m23,057\u001b[0m (90.07 KB)\n"
      ]
     },
     "metadata": {},
     "output_type": "display_data"
    },
    {
     "data": {
      "text/html": [
       "<pre style=\"white-space:pre;overflow-x:auto;line-height:normal;font-family:Menlo,'DejaVu Sans Mono',consolas,'Courier New',monospace\"><span style=\"font-weight: bold\"> Non-trainable params: </span><span style=\"color: #00af00; text-decoration-color: #00af00\">0</span> (0.00 B)\n",
       "</pre>\n"
      ],
      "text/plain": [
       "\u001b[1m Non-trainable params: \u001b[0m\u001b[38;5;34m0\u001b[0m (0.00 B)\n"
      ]
     },
     "metadata": {},
     "output_type": "display_data"
    }
   ],
   "source": [
    "model = Sequential()\n",
    "model.add(InputLayer((trainX.shape[1], trainX.shape[2])))\n",
    "model.add(LSTM(64))\n",
    "model.add(Dense(8, 'relu'))\n",
    "model.add(Dense(1, 'linear'))\n",
    "\n",
    "model.summary()"
   ]
  },
  {
   "cell_type": "code",
   "execution_count": 13,
   "metadata": {},
   "outputs": [],
   "source": [
    "model.compile(loss = MeanSquaredError(), optimizer= Adam(learning_rate= 0.001), metrics= [RootMeanSquaredError()])"
   ]
  },
  {
   "cell_type": "code",
   "execution_count": 14,
   "metadata": {},
   "outputs": [
    {
     "name": "stdout",
     "output_type": "stream",
     "text": [
      "Epoch 1/20\n",
      "\u001b[1m15/15\u001b[0m \u001b[32m━━━━━━━━━━━━━━━━━━━━\u001b[0m\u001b[37m\u001b[0m \u001b[1m4s\u001b[0m 57ms/step - loss: 0.0220 - root_mean_squared_error: 0.1433 - val_loss: 0.0023 - val_root_mean_squared_error: 0.0474\n",
      "Epoch 2/20\n",
      "\u001b[1m15/15\u001b[0m \u001b[32m━━━━━━━━━━━━━━━━━━━━\u001b[0m\u001b[37m\u001b[0m \u001b[1m1s\u001b[0m 51ms/step - loss: 0.0061 - root_mean_squared_error: 0.0771 - val_loss: 0.0017 - val_root_mean_squared_error: 0.0408\n",
      "Epoch 3/20\n",
      "\u001b[1m15/15\u001b[0m \u001b[32m━━━━━━━━━━━━━━━━━━━━\u001b[0m\u001b[37m\u001b[0m \u001b[1m1s\u001b[0m 36ms/step - loss: 0.0048 - root_mean_squared_error: 0.0688 - val_loss: 0.0017 - val_root_mean_squared_error: 0.0415\n",
      "Epoch 4/20\n",
      "\u001b[1m15/15\u001b[0m \u001b[32m━━━━━━━━━━━━━━━━━━━━\u001b[0m\u001b[37m\u001b[0m \u001b[1m1s\u001b[0m 36ms/step - loss: 0.0049 - root_mean_squared_error: 0.0697 - val_loss: 0.0015 - val_root_mean_squared_error: 0.0386\n",
      "Epoch 5/20\n",
      "\u001b[1m15/15\u001b[0m \u001b[32m━━━━━━━━━━━━━━━━━━━━\u001b[0m\u001b[37m\u001b[0m \u001b[1m1s\u001b[0m 42ms/step - loss: 0.0050 - root_mean_squared_error: 0.0704 - val_loss: 0.0015 - val_root_mean_squared_error: 0.0381\n",
      "Epoch 6/20\n",
      "\u001b[1m15/15\u001b[0m \u001b[32m━━━━━━━━━━━━━━━━━━━━\u001b[0m\u001b[37m\u001b[0m \u001b[1m1s\u001b[0m 50ms/step - loss: 0.0046 - root_mean_squared_error: 0.0679 - val_loss: 0.0014 - val_root_mean_squared_error: 0.0380\n",
      "Epoch 7/20\n",
      "\u001b[1m15/15\u001b[0m \u001b[32m━━━━━━━━━━━━━━━━━━━━\u001b[0m\u001b[37m\u001b[0m \u001b[1m1s\u001b[0m 43ms/step - loss: 0.0034 - root_mean_squared_error: 0.0580 - val_loss: 0.0015 - val_root_mean_squared_error: 0.0385\n",
      "Epoch 8/20\n",
      "\u001b[1m15/15\u001b[0m \u001b[32m━━━━━━━━━━━━━━━━━━━━\u001b[0m\u001b[37m\u001b[0m \u001b[1m1s\u001b[0m 49ms/step - loss: 0.0054 - root_mean_squared_error: 0.0728 - val_loss: 0.0015 - val_root_mean_squared_error: 0.0385\n",
      "Epoch 9/20\n",
      "\u001b[1m15/15\u001b[0m \u001b[32m━━━━━━━━━━━━━━━━━━━━\u001b[0m\u001b[37m\u001b[0m \u001b[1m0s\u001b[0m 26ms/step - loss: 0.0038 - root_mean_squared_error: 0.0615 - val_loss: 0.0018 - val_root_mean_squared_error: 0.0428\n",
      "Epoch 10/20\n",
      "\u001b[1m15/15\u001b[0m \u001b[32m━━━━━━━━━━━━━━━━━━━━\u001b[0m\u001b[37m\u001b[0m \u001b[1m0s\u001b[0m 19ms/step - loss: 0.0037 - root_mean_squared_error: 0.0606 - val_loss: 0.0017 - val_root_mean_squared_error: 0.0412\n",
      "Epoch 11/20\n",
      "\u001b[1m15/15\u001b[0m \u001b[32m━━━━━━━━━━━━━━━━━━━━\u001b[0m\u001b[37m\u001b[0m \u001b[1m0s\u001b[0m 31ms/step - loss: 0.0042 - root_mean_squared_error: 0.0648 - val_loss: 0.0015 - val_root_mean_squared_error: 0.0383\n",
      "Epoch 12/20\n",
      "\u001b[1m15/15\u001b[0m \u001b[32m━━━━━━━━━━━━━━━━━━━━\u001b[0m\u001b[37m\u001b[0m \u001b[1m1s\u001b[0m 46ms/step - loss: 0.0043 - root_mean_squared_error: 0.0657 - val_loss: 0.0026 - val_root_mean_squared_error: 0.0513\n",
      "Epoch 13/20\n",
      "\u001b[1m15/15\u001b[0m \u001b[32m━━━━━━━━━━━━━━━━━━━━\u001b[0m\u001b[37m\u001b[0m \u001b[1m1s\u001b[0m 38ms/step - loss: 0.0036 - root_mean_squared_error: 0.0599 - val_loss: 0.0017 - val_root_mean_squared_error: 0.0407\n",
      "Epoch 14/20\n",
      "\u001b[1m15/15\u001b[0m \u001b[32m━━━━━━━━━━━━━━━━━━━━\u001b[0m\u001b[37m\u001b[0m \u001b[1m1s\u001b[0m 37ms/step - loss: 0.0034 - root_mean_squared_error: 0.0584 - val_loss: 0.0018 - val_root_mean_squared_error: 0.0429\n",
      "Epoch 15/20\n",
      "\u001b[1m15/15\u001b[0m \u001b[32m━━━━━━━━━━━━━━━━━━━━\u001b[0m\u001b[37m\u001b[0m \u001b[1m1s\u001b[0m 40ms/step - loss: 0.0036 - root_mean_squared_error: 0.0602 - val_loss: 0.0019 - val_root_mean_squared_error: 0.0438\n",
      "Epoch 16/20\n",
      "\u001b[1m15/15\u001b[0m \u001b[32m━━━━━━━━━━━━━━━━━━━━\u001b[0m\u001b[37m\u001b[0m \u001b[1m1s\u001b[0m 59ms/step - loss: 0.0030 - root_mean_squared_error: 0.0548 - val_loss: 0.0019 - val_root_mean_squared_error: 0.0437\n",
      "Epoch 17/20\n",
      "\u001b[1m15/15\u001b[0m \u001b[32m━━━━━━━━━━━━━━━━━━━━\u001b[0m\u001b[37m\u001b[0m \u001b[1m1s\u001b[0m 41ms/step - loss: 0.0039 - root_mean_squared_error: 0.0621 - val_loss: 0.0021 - val_root_mean_squared_error: 0.0460\n",
      "Epoch 18/20\n",
      "\u001b[1m15/15\u001b[0m \u001b[32m━━━━━━━━━━━━━━━━━━━━\u001b[0m\u001b[37m\u001b[0m \u001b[1m1s\u001b[0m 35ms/step - loss: 0.0034 - root_mean_squared_error: 0.0584 - val_loss: 0.0019 - val_root_mean_squared_error: 0.0433\n",
      "Epoch 19/20\n",
      "\u001b[1m15/15\u001b[0m \u001b[32m━━━━━━━━━━━━━━━━━━━━\u001b[0m\u001b[37m\u001b[0m \u001b[1m1s\u001b[0m 40ms/step - loss: 0.0037 - root_mean_squared_error: 0.0605 - val_loss: 0.0019 - val_root_mean_squared_error: 0.0434\n",
      "Epoch 20/20\n",
      "\u001b[1m15/15\u001b[0m \u001b[32m━━━━━━━━━━━━━━━━━━━━\u001b[0m\u001b[37m\u001b[0m \u001b[1m1s\u001b[0m 43ms/step - loss: 0.0035 - root_mean_squared_error: 0.0592 - val_loss: 0.0020 - val_root_mean_squared_error: 0.0452\n"
     ]
    },
    {
     "data": {
      "text/plain": [
       "<keras.src.callbacks.history.History at 0x1b53b784ad0>"
      ]
     },
     "execution_count": 14,
     "metadata": {},
     "output_type": "execute_result"
    }
   ],
   "source": [
    "model.fit(trainX, trainY, validation_data=(testX, testY), epochs=20, batch_size=128) "
   ]
  },
  {
   "cell_type": "markdown",
   "metadata": {},
   "source": [
    "### 2.2 Model's prediction and evaluation"
   ]
  },
  {
   "cell_type": "markdown",
   "metadata": {},
   "source": [
    "Model's prediction on the training set:"
   ]
  },
  {
   "cell_type": "code",
   "execution_count": 15,
   "metadata": {},
   "outputs": [
    {
     "name": "stdout",
     "output_type": "stream",
     "text": [
      "\u001b[1m57/57\u001b[0m \u001b[32m━━━━━━━━━━━━━━━━━━━━\u001b[0m\u001b[37m\u001b[0m \u001b[1m1s\u001b[0m 15ms/step\n"
     ]
    },
    {
     "data": {
      "text/plain": [
       "array([0.184489  , 0.205808  , 0.21201275, ..., 0.07323234, 0.07338987,\n",
       "       0.07245263], dtype=float32)"
      ]
     },
     "execution_count": 15,
     "metadata": {},
     "output_type": "execute_result"
    }
   ],
   "source": [
    "train_pred = model.predict(trainX).flatten()\n",
    "train_pred"
   ]
  },
  {
   "cell_type": "code",
   "execution_count": 16,
   "metadata": {},
   "outputs": [
    {
     "data": {
      "text/html": [
       "<div>\n",
       "<style scoped>\n",
       "    .dataframe tbody tr th:only-of-type {\n",
       "        vertical-align: middle;\n",
       "    }\n",
       "\n",
       "    .dataframe tbody tr th {\n",
       "        vertical-align: top;\n",
       "    }\n",
       "\n",
       "    .dataframe thead th {\n",
       "        text-align: right;\n",
       "    }\n",
       "</style>\n",
       "<table border=\"1\" class=\"dataframe\">\n",
       "  <thead>\n",
       "    <tr style=\"text-align: right;\">\n",
       "      <th></th>\n",
       "      <th>Train Pred</th>\n",
       "      <th>Actual</th>\n",
       "    </tr>\n",
       "  </thead>\n",
       "  <tbody>\n",
       "    <tr>\n",
       "      <th>0</th>\n",
       "      <td>0.184489</td>\n",
       "      <td>0.285519</td>\n",
       "    </tr>\n",
       "    <tr>\n",
       "      <th>1</th>\n",
       "      <td>0.205808</td>\n",
       "      <td>0.259299</td>\n",
       "    </tr>\n",
       "    <tr>\n",
       "      <th>2</th>\n",
       "      <td>0.212013</td>\n",
       "      <td>0.318630</td>\n",
       "    </tr>\n",
       "    <tr>\n",
       "      <th>3</th>\n",
       "      <td>0.228240</td>\n",
       "      <td>0.189473</td>\n",
       "    </tr>\n",
       "    <tr>\n",
       "      <th>4</th>\n",
       "      <td>0.220657</td>\n",
       "      <td>0.248129</td>\n",
       "    </tr>\n",
       "    <tr>\n",
       "      <th>...</th>\n",
       "      <td>...</td>\n",
       "      <td>...</td>\n",
       "    </tr>\n",
       "    <tr>\n",
       "      <th>1813</th>\n",
       "      <td>0.073877</td>\n",
       "      <td>0.082501</td>\n",
       "    </tr>\n",
       "    <tr>\n",
       "      <th>1814</th>\n",
       "      <td>0.074612</td>\n",
       "      <td>0.072250</td>\n",
       "    </tr>\n",
       "    <tr>\n",
       "      <th>1815</th>\n",
       "      <td>0.073232</td>\n",
       "      <td>0.092849</td>\n",
       "    </tr>\n",
       "    <tr>\n",
       "      <th>1816</th>\n",
       "      <td>0.073390</td>\n",
       "      <td>0.072543</td>\n",
       "    </tr>\n",
       "    <tr>\n",
       "      <th>1817</th>\n",
       "      <td>0.072453</td>\n",
       "      <td>0.037976</td>\n",
       "    </tr>\n",
       "  </tbody>\n",
       "</table>\n",
       "<p>1818 rows × 2 columns</p>\n",
       "</div>"
      ],
      "text/plain": [
       "      Train Pred    Actual\n",
       "0       0.184489  0.285519\n",
       "1       0.205808  0.259299\n",
       "2       0.212013  0.318630\n",
       "3       0.228240  0.189473\n",
       "4       0.220657  0.248129\n",
       "...          ...       ...\n",
       "1813    0.073877  0.082501\n",
       "1814    0.074612  0.072250\n",
       "1815    0.073232  0.092849\n",
       "1816    0.073390  0.072543\n",
       "1817    0.072453  0.037976\n",
       "\n",
       "[1818 rows x 2 columns]"
      ]
     },
     "execution_count": 16,
     "metadata": {},
     "output_type": "execute_result"
    }
   ],
   "source": [
    "train_result = pd.DataFrame(data= {'Train Pred':train_pred, 'Actual':trainY.flatten()})\n",
    "train_result"
   ]
  },
  {
   "cell_type": "code",
   "execution_count": 17,
   "metadata": {},
   "outputs": [
    {
     "data": {
      "text/plain": [
       "[<matplotlib.lines.Line2D at 0x1b53efd23d0>]"
      ]
     },
     "execution_count": 17,
     "metadata": {},
     "output_type": "execute_result"
    },
    {
     "data": {
      "image/png": "[encoded data removed]",
      "text/plain": [
       "<Figure size 640x480 with 1 Axes>"
      ]
     },
     "metadata": {},
     "output_type": "display_data"
    }
   ],
   "source": [
    "plt.plot(train_result['Actual'])\n",
    "plt.plot(train_result['Train Pred'])\n"
   ]
  },
  {
   "cell_type": "markdown",
   "metadata": {},
   "source": [
    "Model's prediction on the test set:"
   ]
  },
  {
   "cell_type": "code",
   "execution_count": 18,
   "metadata": {},
   "outputs": [
    {
     "name": "stdout",
     "output_type": "stream",
     "text": [
      "\u001b[1m14/14\u001b[0m \u001b[32m━━━━━━━━━━━━━━━━━━━━\u001b[0m\u001b[37m\u001b[0m \u001b[1m0s\u001b[0m 7ms/step\n"
     ]
    },
    {
     "data": {
      "text/html": [
       "<div>\n",
       "<style scoped>\n",
       "    .dataframe tbody tr th:only-of-type {\n",
       "        vertical-align: middle;\n",
       "    }\n",
       "\n",
       "    .dataframe tbody tr th {\n",
       "        vertical-align: top;\n",
       "    }\n",
       "\n",
       "    .dataframe thead th {\n",
       "        text-align: right;\n",
       "    }\n",
       "</style>\n",
       "<table border=\"1\" class=\"dataframe\">\n",
       "  <thead>\n",
       "    <tr style=\"text-align: right;\">\n",
       "      <th></th>\n",
       "      <th>Test Pred</th>\n",
       "      <th>Actual</th>\n",
       "    </tr>\n",
       "  </thead>\n",
       "  <tbody>\n",
       "    <tr>\n",
       "      <th>0</th>\n",
       "      <td>0.092510</td>\n",
       "      <td>0.079889</td>\n",
       "    </tr>\n",
       "    <tr>\n",
       "      <th>1</th>\n",
       "      <td>0.084973</td>\n",
       "      <td>0.091336</td>\n",
       "    </tr>\n",
       "    <tr>\n",
       "      <th>2</th>\n",
       "      <td>0.081024</td>\n",
       "      <td>0.111259</td>\n",
       "    </tr>\n",
       "    <tr>\n",
       "      <th>3</th>\n",
       "      <td>0.080200</td>\n",
       "      <td>0.064627</td>\n",
       "    </tr>\n",
       "    <tr>\n",
       "      <th>4</th>\n",
       "      <td>0.067313</td>\n",
       "      <td>0.028034</td>\n",
       "    </tr>\n",
       "    <tr>\n",
       "      <th>...</th>\n",
       "      <td>...</td>\n",
       "      <td>...</td>\n",
       "    </tr>\n",
       "    <tr>\n",
       "      <th>427</th>\n",
       "      <td>0.001075</td>\n",
       "      <td>0.078970</td>\n",
       "    </tr>\n",
       "    <tr>\n",
       "      <th>428</th>\n",
       "      <td>0.015609</td>\n",
       "      <td>0.039090</td>\n",
       "    </tr>\n",
       "    <tr>\n",
       "      <th>429</th>\n",
       "      <td>0.019277</td>\n",
       "      <td>0.057859</td>\n",
       "    </tr>\n",
       "    <tr>\n",
       "      <th>430</th>\n",
       "      <td>0.016959</td>\n",
       "      <td>0.047275</td>\n",
       "    </tr>\n",
       "    <tr>\n",
       "      <th>431</th>\n",
       "      <td>0.025341</td>\n",
       "      <td>0.008445</td>\n",
       "    </tr>\n",
       "  </tbody>\n",
       "</table>\n",
       "<p>432 rows × 2 columns</p>\n",
       "</div>"
      ],
      "text/plain": [
       "     Test Pred    Actual\n",
       "0     0.092510  0.079889\n",
       "1     0.084973  0.091336\n",
       "2     0.081024  0.111259\n",
       "3     0.080200  0.064627\n",
       "4     0.067313  0.028034\n",
       "..         ...       ...\n",
       "427   0.001075  0.078970\n",
       "428   0.015609  0.039090\n",
       "429   0.019277  0.057859\n",
       "430   0.016959  0.047275\n",
       "431   0.025341  0.008445\n",
       "\n",
       "[432 rows x 2 columns]"
      ]
     },
     "execution_count": 18,
     "metadata": {},
     "output_type": "execute_result"
    }
   ],
   "source": [
    "test_pred = model.predict(testX).flatten()\n",
    "test_result = pd.DataFrame(data= {'Test Pred':test_pred, 'Actual':testY.flatten()})\n",
    "test_result"
   ]
  },
  {
   "cell_type": "code",
   "execution_count": 19,
   "metadata": {},
   "outputs": [
    {
     "data": {
      "text/plain": [
       "[<matplotlib.lines.Line2D at 0x1b53d8379d0>]"
      ]
     },
     "execution_count": 19,
     "metadata": {},
     "output_type": "execute_result"
    },
    {
     "data": {
      "image/png": "[encoded data removed]",
      "text/plain": [
       "<Figure size 640x480 with 1 Axes>"
      ]
     },
     "metadata": {},
     "output_type": "display_data"
    }
   ],
   "source": [
    "plt.plot(test_result['Actual'])\n",
    "plt.plot(test_result['Test Pred'])"
   ]
  },
  {
   "cell_type": "markdown",
   "metadata": {},
   "source": [
    "The RMSE of the predicted value on the Test data: "
   ]
  },
  {
   "cell_type": "code",
   "execution_count": 20,
   "metadata": {},
   "outputs": [
    {
     "data": {
      "text/plain": [
       "0.04524929459123178"
      ]
     },
     "execution_count": 20,
     "metadata": {},
     "output_type": "execute_result"
    }
   ],
   "source": [
    "RMSE_1 = np.sqrt(mean_squared_error(testY, test_pred))\n",
    "RMSE_1"
   ]
  },
  {
   "cell_type": "markdown",
   "metadata": {},
   "source": [
    "## 3. Hyperparameter tuning: Tuning model with 2 lstm layers and 2 Dense layers "
   ]
  },
  {
   "cell_type": "markdown",
   "metadata": {},
   "source": [
    "### 3.1 Initialize the model tunning function"
   ]
  },
  {
   "cell_type": "code",
   "execution_count": 21,
   "metadata": {},
   "outputs": [],
   "source": [
    "import keras_tuner as kt"
   ]
  },
  {
   "cell_type": "code",
   "execution_count": 22,
   "metadata": {},
   "outputs": [],
   "source": [
    "def build_model(hp):\n",
    "    model = Sequential()\n",
    "    model.add(InputLayer((trainX.shape[1], trainX.shape[2])))\n",
    "    \n",
    "    lstm_units = hp.Choice('lstm_units', values=[32, 64, 128, 256])\n",
    "    model.add(LSTM(lstm_units, return_sequences=True))\n",
    "    \n",
    "    dropout_rate = hp.Choice('dropout_rate', values=[0.05, 0.1, 0.15, 0.2])\n",
    "    model.add(Dropout(dropout_rate))\n",
    "    \n",
    "    model.add(LSTM(lstm_units))\n",
    "    model.add(Dropout(dropout_rate))\n",
    "    \n",
    "    activation_function = hp.Choice('activation_function', values=['relu', 'tanh'])\n",
    "    dense_units = hp.Choice('dense_units', values=[8, 16, 32, 64])  \n",
    "    model.add(Dense(dense_units, activation=activation_function))\n",
    "    model.add(Dense(1, activation='linear'))\n",
    "    \n",
    "    learning_rate = hp.Choice('learning_rate', values=[0.001, 0.01, 0.1])\n",
    "    model.compile(\n",
    "        loss=MeanSquaredError(),\n",
    "        optimizer=Adam(learning_rate=learning_rate),\n",
    "        metrics=[RootMeanSquaredError()]\n",
    "    )\n",
    "    return model"
   ]
  },
  {
   "cell_type": "code",
   "execution_count": 33,
   "metadata": {},
   "outputs": [],
   "source": [
    "tuner = kt.GridSearch(\n",
    "    build_model,\n",
    "    objective='val_loss',\n",
    "    # max_trials=400,\n",
    "    executions_per_trial=1,\n",
    "    directory='my_model9',\n",
    "    project_name='lstm_tuning'\n",
    ")"
   ]
  },
  {
   "cell_type": "markdown",
   "metadata": {},
   "source": [
    "### 3.2 Start the tuning process"
   ]
  },
  {
   "cell_type": "markdown",
   "metadata": {},
   "source": [
    "We set the number of epoch equals 20 with the batch size of 32. The model uses the Test set as the validation data. "
   ]
  },
  {
   "cell_type": "code",
   "execution_count": 34,
   "metadata": {},
   "outputs": [
    {
     "name": "stdout",
     "output_type": "stream",
     "text": [
      "Trial 316 Complete [00h 22m 33s]\n",
      "val_loss: 0.00143534189555794\n",
      "\n",
      "Best val_loss So Far: 0.0012603352079167962\n",
      "Total elapsed time: 1d 09h 21m 16s\n",
      "\n",
      "Search: Running Trial #317\n",
      "\n",
      "Value             |Best Value So Far |Hyperparameter\n",
      "256               |32                |lstm_units\n",
      "0.1               |0.05              |dropout_rate\n",
      "relu              |tanh              |activation_function\n",
      "16                |16                |dense_units\n",
      "0.01              |0.01              |learning_rate\n",
      "\n",
      "Epoch 1/50\n",
      "\u001b[1m29/29\u001b[0m \u001b[32m━━━━━━━━━━━━━━━━━━━━\u001b[0m\u001b[37m\u001b[0m \u001b[1m38s\u001b[0m 1s/step - loss: 2.0777 - root_mean_squared_error: 1.3240 - val_loss: 0.0020 - val_root_mean_squared_error: 0.0451\n",
      "Epoch 2/50\n",
      "\u001b[1m29/29\u001b[0m \u001b[32m━━━━━━━━━━━━━━━━━━━━\u001b[0m\u001b[37m\u001b[0m \u001b[1m27s\u001b[0m 914ms/step - loss: 0.0052 - root_mean_squared_error: 0.0719 - val_loss: 0.0055 - val_root_mean_squared_error: 0.0741\n",
      "Epoch 3/50\n",
      "\u001b[1m29/29\u001b[0m \u001b[32m━━━━━━━━━━━━━━━━━━━━\u001b[0m\u001b[37m\u001b[0m \u001b[1m27s\u001b[0m 942ms/step - loss: 0.0053 - root_mean_squared_error: 0.0730 - val_loss: 0.0075 - val_root_mean_squared_error: 0.0864\n",
      "Epoch 4/50\n",
      "\u001b[1m29/29\u001b[0m \u001b[32m━━━━━━━━━━━━━━━━━━━━\u001b[0m\u001b[37m\u001b[0m \u001b[1m26s\u001b[0m 907ms/step - loss: 0.0055 - root_mean_squared_error: 0.0735 - val_loss: 0.0036 - val_root_mean_squared_error: 0.0602\n",
      "Epoch 5/50\n",
      "\u001b[1m29/29\u001b[0m \u001b[32m━━━━━━━━━━━━━━━━━━━━\u001b[0m\u001b[37m\u001b[0m \u001b[1m22s\u001b[0m 760ms/step - loss: 0.0054 - root_mean_squared_error: 0.0733 - val_loss: 0.0047 - val_root_mean_squared_error: 0.0688\n",
      "Epoch 6/50\n",
      "\u001b[1m29/29\u001b[0m \u001b[32m━━━━━━━━━━━━━━━━━━━━\u001b[0m\u001b[37m\u001b[0m \u001b[1m27s\u001b[0m 928ms/step - loss: 0.0047 - root_mean_squared_error: 0.0682 - val_loss: 0.0051 - val_root_mean_squared_error: 0.0715\n",
      "Epoch 7/50\n",
      "\u001b[1m29/29\u001b[0m \u001b[32m━━━━━━━━━━━━━━━━━━━━\u001b[0m\u001b[37m\u001b[0m \u001b[1m26s\u001b[0m 898ms/step - loss: 0.0085 - root_mean_squared_error: 0.0901 - val_loss: 0.0021 - val_root_mean_squared_error: 0.0460\n",
      "Epoch 8/50\n",
      "\u001b[1m29/29\u001b[0m \u001b[32m━━━━━━━━━━━━━━━━━━━━\u001b[0m\u001b[37m\u001b[0m \u001b[1m28s\u001b[0m 975ms/step - loss: 0.0077 - root_mean_squared_error: 0.0871 - val_loss: 0.0036 - val_root_mean_squared_error: 0.0601\n",
      "Epoch 9/50\n",
      "\u001b[1m29/29\u001b[0m \u001b[32m━━━━━━━━━━━━━━━━━━━━\u001b[0m\u001b[37m\u001b[0m \u001b[1m26s\u001b[0m 901ms/step - loss: 0.0052 - root_mean_squared_error: 0.0720 - val_loss: 0.0039 - val_root_mean_squared_error: 0.0628\n",
      "Epoch 10/50\n",
      "\u001b[1m29/29\u001b[0m \u001b[32m━━━━━━━━━━━━━━━━━━━━\u001b[0m\u001b[37m\u001b[0m \u001b[1m28s\u001b[0m 962ms/step - loss: 0.0067 - root_mean_squared_error: 0.0815 - val_loss: 0.0036 - val_root_mean_squared_error: 0.0599\n",
      "Epoch 11/50\n",
      "\u001b[1m29/29\u001b[0m \u001b[32m━━━━━━━━━━━━━━━━━━━━\u001b[0m\u001b[37m\u001b[0m \u001b[1m26s\u001b[0m 895ms/step - loss: 0.0048 - root_mean_squared_error: 0.0695 - val_loss: 0.0029 - val_root_mean_squared_error: 0.0538\n",
      "Epoch 12/50\n",
      "\u001b[1m29/29\u001b[0m \u001b[32m━━━━━━━━━━━━━━━━━━━━\u001b[0m\u001b[37m\u001b[0m \u001b[1m26s\u001b[0m 903ms/step - loss: 0.0061 - root_mean_squared_error: 0.0779 - val_loss: 0.0018 - val_root_mean_squared_error: 0.0425\n",
      "Epoch 13/50\n",
      "\u001b[1m29/29\u001b[0m \u001b[32m━━━━━━━━━━━━━━━━━━━━\u001b[0m\u001b[37m\u001b[0m \u001b[1m28s\u001b[0m 985ms/step - loss: 0.0060 - root_mean_squared_error: 0.0775 - val_loss: 0.0023 - val_root_mean_squared_error: 0.0475\n",
      "Epoch 14/50\n",
      "\u001b[1m29/29\u001b[0m \u001b[32m━━━━━━━━━━━━━━━━━━━━\u001b[0m\u001b[37m\u001b[0m \u001b[1m26s\u001b[0m 904ms/step - loss: 0.0048 - root_mean_squared_error: 0.0694 - val_loss: 0.0027 - val_root_mean_squared_error: 0.0518\n",
      "Epoch 15/50\n",
      "\u001b[1m29/29\u001b[0m \u001b[32m━━━━━━━━━━━━━━━━━━━━\u001b[0m\u001b[37m\u001b[0m \u001b[1m26s\u001b[0m 892ms/step - loss: 0.0047 - root_mean_squared_error: 0.0688 - val_loss: 0.0018 - val_root_mean_squared_error: 0.0426\n",
      "Epoch 16/50\n",
      "\u001b[1m29/29\u001b[0m \u001b[32m━━━━━━━━━━━━━━━━━━━━\u001b[0m\u001b[37m\u001b[0m \u001b[1m26s\u001b[0m 906ms/step - loss: 0.0043 - root_mean_squared_error: 0.0651 - val_loss: 0.0019 - val_root_mean_squared_error: 0.0436\n",
      "Epoch 17/50\n",
      "\u001b[1m29/29\u001b[0m \u001b[32m━━━━━━━━━━━━━━━━━━━━\u001b[0m\u001b[37m\u001b[0m \u001b[1m26s\u001b[0m 900ms/step - loss: 0.0043 - root_mean_squared_error: 0.0657 - val_loss: 0.0014 - val_root_mean_squared_error: 0.0380\n",
      "Epoch 18/50\n",
      "\u001b[1m29/29\u001b[0m \u001b[32m━━━━━━━━━━━━━━━━━━━━\u001b[0m\u001b[37m\u001b[0m \u001b[1m28s\u001b[0m 968ms/step - loss: 0.0042 - root_mean_squared_error: 0.0648 - val_loss: 0.0015 - val_root_mean_squared_error: 0.0387\n",
      "Epoch 19/50\n",
      "\u001b[1m29/29\u001b[0m \u001b[32m━━━━━━━━━━━━━━━━━━━━\u001b[0m\u001b[37m\u001b[0m \u001b[1m26s\u001b[0m 886ms/step - loss: 0.0047 - root_mean_squared_error: 0.0686 - val_loss: 0.0018 - val_root_mean_squared_error: 0.0422\n",
      "Epoch 20/50\n",
      "\u001b[1m29/29\u001b[0m \u001b[32m━━━━━━━━━━━━━━━━━━━━\u001b[0m\u001b[37m\u001b[0m \u001b[1m28s\u001b[0m 951ms/step - loss: 0.0042 - root_mean_squared_error: 0.0645 - val_loss: 0.0022 - val_root_mean_squared_error: 0.0470\n",
      "Epoch 21/50\n",
      "\u001b[1m29/29\u001b[0m \u001b[32m━━━━━━━━━━━━━━━━━━━━\u001b[0m\u001b[37m\u001b[0m \u001b[1m28s\u001b[0m 981ms/step - loss: 0.0043 - root_mean_squared_error: 0.0658 - val_loss: 0.0017 - val_root_mean_squared_error: 0.0407\n",
      "Epoch 22/50\n",
      "\u001b[1m29/29\u001b[0m \u001b[32m━━━━━━━━━━━━━━━━━━━━\u001b[0m\u001b[37m\u001b[0m \u001b[1m26s\u001b[0m 887ms/step - loss: 0.0044 - root_mean_squared_error: 0.0664 - val_loss: 0.0014 - val_root_mean_squared_error: 0.0373\n",
      "Epoch 23/50\n",
      "\u001b[1m29/29\u001b[0m \u001b[32m━━━━━━━━━━━━━━━━━━━━\u001b[0m\u001b[37m\u001b[0m \u001b[1m28s\u001b[0m 972ms/step - loss: 0.0039 - root_mean_squared_error: 0.0623 - val_loss: 0.0016 - val_root_mean_squared_error: 0.0405\n",
      "Epoch 24/50\n",
      "\u001b[1m29/29\u001b[0m \u001b[32m━━━━━━━━━━━━━━━━━━━━\u001b[0m\u001b[37m\u001b[0m \u001b[1m29s\u001b[0m 1s/step - loss: 0.0053 - root_mean_squared_error: 0.0719 - val_loss: 0.0015 - val_root_mean_squared_error: 0.0387\n",
      "Epoch 25/50\n",
      "\u001b[1m29/29\u001b[0m \u001b[32m━━━━━━━━━━━━━━━━━━━━\u001b[0m\u001b[37m\u001b[0m \u001b[1m28s\u001b[0m 957ms/step - loss: 0.0051 - root_mean_squared_error: 0.0710 - val_loss: 0.0016 - val_root_mean_squared_error: 0.0394\n",
      "Epoch 26/50\n",
      "\u001b[1m29/29\u001b[0m \u001b[32m━━━━━━━━━━━━━━━━━━━━\u001b[0m\u001b[37m\u001b[0m \u001b[1m26s\u001b[0m 893ms/step - loss: 0.0046 - root_mean_squared_error: 0.0676 - val_loss: 0.0014 - val_root_mean_squared_error: 0.0373\n",
      "Epoch 27/50\n",
      "\u001b[1m29/29\u001b[0m \u001b[32m━━━━━━━━━━━━━━━━━━━━\u001b[0m\u001b[37m\u001b[0m \u001b[1m27s\u001b[0m 933ms/step - loss: 0.0047 - root_mean_squared_error: 0.0682 - val_loss: 0.0019 - val_root_mean_squared_error: 0.0431\n",
      "Epoch 28/50\n",
      "\u001b[1m29/29\u001b[0m \u001b[32m━━━━━━━━━━━━━━━━━━━━\u001b[0m\u001b[37m\u001b[0m \u001b[1m26s\u001b[0m 903ms/step - loss: 0.0039 - root_mean_squared_error: 0.0621 - val_loss: 0.0014 - val_root_mean_squared_error: 0.0377\n",
      "Epoch 29/50\n",
      "\u001b[1m 3/29\u001b[0m \u001b[32m━━\u001b[0m\u001b[37m━━━━━━━━━━━━━━━━━━\u001b[0m \u001b[1m20s\u001b[0m 779ms/step - loss: 0.0042 - root_mean_squared_error: 0.0645"
     ]
    }
   ],
   "source": [
    "tuner.search(\n",
    "    trainX, trainY,\n",
    "    epochs= 50,\n",
    "    batch_size= 64,\n",
    "    validation_data=(testX, testY)\n",
    ")"
   ]
  },
  {
   "cell_type": "markdown",
   "metadata": {},
   "source": [
    "Obtaining the best performing model and set it to \"best_model\""
   ]
  },
  {
   "cell_type": "code",
   "execution_count": 25,
   "metadata": {},
   "outputs": [
    {
     "name": "stderr",
     "output_type": "stream",
     "text": [
      "c:\\Users\\DELL\\AppData\\Local\\Programs\\Python\\Python311\\Lib\\site-packages\\keras\\src\\saving\\saving_lib.py:576: UserWarning: Skipping variable loading for optimizer 'adam', because it has 2 variables whereas the saved optimizer has 22 variables. \n",
      "  saveable.load_own_variables(weights_store.get(inner_path))\n"
     ]
    },
    {
     "data": {
      "text/plain": [
       "<Sequential name=sequential, built=True>"
      ]
     },
     "execution_count": 25,
     "metadata": {},
     "output_type": "execute_result"
    }
   ],
   "source": [
    "best_model = tuner.get_best_models(num_models=1)[0]\n",
    "best_model"
   ]
  },
  {
   "cell_type": "markdown",
   "metadata": {},
   "source": [
    "This is the result of the 10 best performing model:"
   ]
  },
  {
   "cell_type": "code",
   "execution_count": 26,
   "metadata": {},
   "outputs": [
    {
     "name": "stdout",
     "output_type": "stream",
     "text": [
      "Results summary\n",
      "Results in my_model8\\lstm_tuning\n",
      "Showing 10 best trials\n",
      "Objective(name=\"val_loss\", direction=\"min\")\n",
      "\n",
      "Trial 0010 summary\n",
      "Hyperparameters:\n",
      "lstm_units: 32\n",
      "dropout_rate: 0.05\n",
      "activation_function: relu\n",
      "dense_units: 64\n",
      "learning_rate: 0.01\n",
      "Score: 0.0012697719503194094\n",
      "\n",
      "Trial 0082 summary\n",
      "Hyperparameters:\n",
      "lstm_units: 32\n",
      "dropout_rate: 0.2\n",
      "activation_function: relu\n",
      "dense_units: 64\n",
      "learning_rate: 0.01\n",
      "Score: 0.0012708408758044243\n",
      "\n",
      "Trial 0004 summary\n",
      "Hyperparameters:\n",
      "lstm_units: 32\n",
      "dropout_rate: 0.05\n",
      "activation_function: relu\n",
      "dense_units: 16\n",
      "learning_rate: 0.01\n",
      "Score: 0.0012744879350066185\n",
      "\n",
      "Trial 0007 summary\n",
      "Hyperparameters:\n",
      "lstm_units: 32\n",
      "dropout_rate: 0.05\n",
      "activation_function: relu\n",
      "dense_units: 32\n",
      "learning_rate: 0.01\n",
      "Score: 0.0012792476918548346\n",
      "\n",
      "Trial 0106 summary\n",
      "Hyperparameters:\n",
      "lstm_units: 64\n",
      "dropout_rate: 0.05\n",
      "activation_function: relu\n",
      "dense_units: 64\n",
      "learning_rate: 0.01\n",
      "Score: 0.001279776101000607\n",
      "\n",
      "Trial 0190 summary\n",
      "Hyperparameters:\n",
      "lstm_units: 64\n",
      "dropout_rate: 0.2\n",
      "activation_function: tanh\n",
      "dense_units: 64\n",
      "learning_rate: 0.01\n",
      "Score: 0.0012806012528017163\n",
      "\n",
      "Trial 0088 summary\n",
      "Hyperparameters:\n",
      "lstm_units: 32\n",
      "dropout_rate: 0.2\n",
      "activation_function: tanh\n",
      "dense_units: 16\n",
      "learning_rate: 0.01\n",
      "Score: 0.001283978228457272\n",
      "\n",
      "Trial 0061 summary\n",
      "Hyperparameters:\n",
      "lstm_units: 32\n",
      "dropout_rate: 0.15\n",
      "activation_function: tanh\n",
      "dense_units: 8\n",
      "learning_rate: 0.01\n",
      "Score: 0.0012848639162257314\n",
      "\n",
      "Trial 0064 summary\n",
      "Hyperparameters:\n",
      "lstm_units: 32\n",
      "dropout_rate: 0.15\n",
      "activation_function: tanh\n",
      "dense_units: 16\n",
      "learning_rate: 0.01\n",
      "Score: 0.001285007456317544\n",
      "\n",
      "Trial 0073 summary\n",
      "Hyperparameters:\n",
      "lstm_units: 32\n",
      "dropout_rate: 0.2\n",
      "activation_function: relu\n",
      "dense_units: 8\n",
      "learning_rate: 0.01\n",
      "Score: 0.0012852312065660954\n"
     ]
    }
   ],
   "source": [
    "tuner.results_summary()"
   ]
  },
  {
   "cell_type": "markdown",
   "metadata": {},
   "source": [
    "We extract the hyperparameters from the best performing model and set it to \"best_hp\""
   ]
  },
  {
   "cell_type": "code",
   "execution_count": 27,
   "metadata": {},
   "outputs": [
    {
     "name": "stdout",
     "output_type": "stream",
     "text": [
      "\n",
      "The best hyperparameters are:\n",
      "- lstm_units: 32\n",
      "- dropout_rate: 0.05\n",
      "- activation function: relu\n",
      "- dense_units: 64\n",
      "- learning_rate: 0.01\n",
      "\n"
     ]
    }
   ],
   "source": [
    "best_hps = tuner.get_best_hyperparameters(num_trials=1)[0]\n",
    "print(f\"\"\"\n",
    "The best hyperparameters are:\n",
    "- lstm_units: {best_hps.get('lstm_units')}\n",
    "- dropout_rate: {best_hps.get('dropout_rate')}\n",
    "- activation function: {best_hps.get('activation_function')}\n",
    "- dense_units: {best_hps.get('dense_units')}\n",
    "- learning_rate: {best_hps.get('learning_rate')}\n",
    "\"\"\")"
   ]
  },
  {
   "cell_type": "markdown",
   "metadata": {},
   "source": [
    "Predicting the value of the Test data using best_model:"
   ]
  },
  {
   "cell_type": "code",
   "execution_count": 28,
   "metadata": {},
   "outputs": [
    {
     "name": "stdout",
     "output_type": "stream",
     "text": [
      "\u001b[1m14/14\u001b[0m \u001b[32m━━━━━━━━━━━━━━━━━━━━\u001b[0m\u001b[37m\u001b[0m \u001b[1m1s\u001b[0m 35ms/step\n"
     ]
    }
   ],
   "source": [
    "y_pred = best_model.predict(testX)\n",
    "# best_test_result = pd.DataFrame(data= {'Test Pred':y_test_best_pred, 'Actual':testY.flatten()})"
   ]
  },
  {
   "cell_type": "code",
   "execution_count": 29,
   "metadata": {},
   "outputs": [],
   "source": [
    "prediction_copies_array = np.repeat(y_pred,23, axis=-1)\n",
    "original_copies_array = np.repeat(testY,23, axis=-1)\n",
    "\n",
    "pred = scaler.inverse_transform(np.reshape(prediction_copies_array,(len(y_pred),23)))[:,0]\n",
    "original=scaler.inverse_transform(np.reshape(original_copies_array,(len(testY),23)))[:,0]"
   ]
  },
  {
   "cell_type": "code",
   "execution_count": 30,
   "metadata": {},
   "outputs": [
    {
     "data": {
      "image/png": "[encoded data removed]",
      "text/plain": [
       "<Figure size 1200x400 with 1 Axes>"
      ]
     },
     "metadata": {},
     "output_type": "display_data"
    }
   ],
   "source": [
    "# Flattening the predictions and actual values\n",
    "y_test_flat = np.ravel(original)\n",
    "y_pred_flat = np.ravel(pred)\n",
    "\n",
    "# Plotting\n",
    "indices = np.arange(len(y_test_flat))\n",
    "\n",
    "plt.figure(figsize=(12, 4))\n",
    "plt.plot(indices, y_test_flat, label='Actual Price', color='blue')\n",
    "plt.plot(indices, y_pred_flat, label='Predicted Price', color='red', linestyle='--')\n",
    "\n",
    "plt.xlabel('Index')\n",
    "plt.ylabel('Price')\n",
    "plt.title('Actual vs. Predicted Price')\n",
    "plt.legend()\n",
    "plt.show()"
   ]
  },
  {
   "cell_type": "code",
   "execution_count": null,
   "metadata": {},
   "outputs": [],
   "source": [
    "# RMSE\n",
    "from sklearn.metrics import mean_squared_error\n",
    "import numpy as np\n",
    "def rmse(y_true, y_pred):\n",
    "    return np.sqrt(mean_squared_error(y_true, y_pred))\n",
    "\n",
    "# MAPE\n",
    "def mape(y_true, y_pred):\n",
    "    return np.mean(np.abs((y_true - y_pred) / y_true)) * 100\n",
    "\n",
    "#NMSE\n",
    "def nmse(y_true, y_pred):\n",
    "    mse = mean_squared_error(y_true, y_pred)\n",
    "    variance = np.var(y_true)\n",
    "    return mse / variance\n",
    "\n",
    "#DA\n",
    "def DA(y_true, y_pred):\n",
    "    # Convert the arrays to numpy arrays\n",
    "    y_true = np.array(y_true)\n",
    "    y_pred = np.array(y_pred)\n",
    "\n",
    "    # Calculate the direction of change\n",
    "    true_direction = np.sign(np.diff(y_true))\n",
    "    pred_direction = np.sign(np.diff(y_pred))\n",
    "    \n",
    "    # Compare directions\n",
    "    correct_direction = np.sum(true_direction == pred_direction)\n",
    "    total_direction = len(true_direction)\n",
    "    \n",
    "    # Calculate directional accuracy\n",
    "    da = correct_direction / total_direction * 100\n",
    "    \n",
    "    return da\n"
   ]
  },
  {
   "cell_type": "code",
   "execution_count": null,
   "metadata": {},
   "outputs": [
    {
     "name": "stdout",
     "output_type": "stream",
     "text": [
      "RMSE:  1724.0693680937968\n",
      "MAPE:  3.0949428925056344\n",
      "NMSE:  0.012778356900982498\n",
      "DA:  46.635730858468676\n"
     ]
    }
   ],
   "source": [
    "y_true = y_test_flat\n",
    "y_predi = y_pred_flat\n",
    "\n",
    "print(\"RMSE: \", rmse(y_true, y_predi))\n",
    "print(\"MAPE: \", mape(y_true, y_predi))\n",
    "print(\"NMSE: \", nmse(y_true, y_predi))\n",
    "print(\"DA: \", DA(y_true, y_predi))\n"
   ]
  }
 ],
 "metadata": {
  "kernelspec": {
   "display_name": "base",
   "language": "python",
   "name": "python3"
  },
  "language_info": {
   "codemirror_mode": {
    "name": "ipython",
    "version": 3
   },
   "file_extension": ".py",
   "mimetype": "text/x-python",
   "name": "python",
   "nbconvert_exporter": "python",
   "pygments_lexer": "ipython3",
   "version": "3.11.4"
  }
 },
 "nbformat": 4,
 "nbformat_minor": 2
}
