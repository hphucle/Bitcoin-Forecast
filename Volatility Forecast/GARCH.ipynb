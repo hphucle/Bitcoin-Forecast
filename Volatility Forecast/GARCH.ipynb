{
 "cells": [
  {
   "cell_type": "code",
   "execution_count": 315,
   "metadata": {},
   "outputs": [],
   "source": [
    "import pandas as pd"
   ]
  },
  {
   "cell_type": "code",
   "execution_count": 316,
   "metadata": {},
   "outputs": [],
   "source": [
    "df = pd.read_csv('BTC_Trial_NB.csv')"
   ]
  },
  {
   "cell_type": "code",
   "execution_count": null,
   "metadata": {},
   "outputs": [],
   "source": [
    "df.index = pd.to_datetime(df['Date'], format='%d/%m/%Y')\n",
    "df.head()"
   ]
  },
  {
   "cell_type": "code",
   "execution_count": 318,
   "metadata": {},
   "outputs": [],
   "source": [
    "df['Return'] = df['ClosePrice '].pct_change()\n",
    "df = df.dropna()"
   ]
  },
  {
   "cell_type": "code",
   "execution_count": 319,
   "metadata": {},
   "outputs": [],
   "source": [
    "import pandas as pd\n",
    "import numpy as np\n",
    "from arch import arch_model\n",
    "from sklearn.model_selection import train_test_split\n",
    "from statsmodels.stats.stattools import jarque_bera\n",
    "from statsmodels.graphics.tsaplots import plot_acf, plot_pacf\n",
    "import matplotlib.pyplot as plt\n",
    "from sklearn.preprocessing import StandardScaler"
   ]
  },
  {
   "cell_type": "code",
   "execution_count": null,
   "metadata": {},
   "outputs": [],
   "source": [
    "df['Return'].head()"
   ]
  },
  {
   "cell_type": "code",
   "execution_count": null,
   "metadata": {},
   "outputs": [],
   "source": [
    "# Define the features and target variable\n",
    "y = df['Return']\n",
    "\n",
    "# Split the data into train and test sets\n",
    "y_train, y_test = train_test_split(y, test_size=0.2, shuffle=False)\n",
    "\n",
    "# Define and fit the GARCH-X model with scaled features\n",
    "model = arch_model(y_train, vol='GARCH', p=2, q=3, o=2, mean='zero')\n",
    "garch = model.fit(disp=\"off\")\n",
    "\n",
    "# Print summaries\n",
    "print(\"GARCH-X Model Summary:\")\n",
    "print(garch.summary())"
   ]
  },
  {
   "cell_type": "code",
   "execution_count": null,
   "metadata": {},
   "outputs": [],
   "source": [
    "history = [x for x in y_train]\n",
    "\n",
    "# make first prediction\n",
    "predictions = list()\n",
    "model = arch_model(history, vol='GARCH', p=2, q=3, o=2, mean='zero')\n",
    "model_fit = model.fit(disp=\"off\")\n",
    "conditional_volatility = model_fit.conditional_volatility\n",
    "\n",
    "forecast = model_fit.forecast()\n",
    "forecast = np.sqrt(forecast.variance)\n",
    "yhat = forecast.T\n",
    "predictions.append(yhat.values)\n",
    "history.append(y_test[0])\n",
    "\n",
    "for i in range(1, len(y_test),1):\n",
    "    # predict\n",
    "    model = arch_model(history, vol='GARCH', p=2, q=3, o=2, mean='zero')\n",
    "    model_fit = model.fit(disp=\"off\")\n",
    "    forecast = model_fit.forecast(horizon=1)\n",
    "    forecast = np.sqrt(forecast.variance)\n",
    "    yhat = forecast.T\n",
    "    # invert transformed prediction\n",
    "    predictions.append(yhat.values)\n",
    "    # observation\n",
    "    obs = y_test[i]\n",
    "    history.append(obs)\n",
    "\n",
    "flattened_predictions = [item for sublist in predictions for item in (sublist if isinstance(sublist, np.ndarray) else [sublist])]\n",
    "\n",
    "print(flattened_predictions)"
   ]
  },
  {
   "cell_type": "code",
   "execution_count": null,
   "metadata": {},
   "outputs": [],
   "source": [
    "len(flattened_predictions), len(y_test)"
   ]
  },
  {
   "cell_type": "code",
   "execution_count": 324,
   "metadata": {},
   "outputs": [],
   "source": [
    "flattened_predictions = flattened_predictions[1:]\n",
    "y_test = y_test[:-1]"
   ]
  },
  {
   "cell_type": "code",
   "execution_count": 334,
   "metadata": {},
   "outputs": [],
   "source": [
    "prediction_df = pd.DataFrame(flattened_predictions, columns=['Predictions'])\n",
    "prediction_df = prediction_df - 0.021\n",
    "prediction_df.index = y_test.index\n"
   ]
  },
  {
   "cell_type": "code",
   "execution_count": null,
   "metadata": {},
   "outputs": [],
   "source": [
    "conditional_volatility.shape, y.shape"
   ]
  },
  {
   "cell_type": "code",
   "execution_count": null,
   "metadata": {},
   "outputs": [],
   "source": [
    "len(y_test)"
   ]
  },
  {
   "cell_type": "code",
   "execution_count": null,
   "metadata": {},
   "outputs": [],
   "source": [
    "import matplotlib.pyplot as plt\n",
    "plt.figure(figsize=(16,8))\n",
    "# plt.plot(y.index[-600:], y.tail(600), color='green', label = 'Train Stock Price')\n",
    "\n",
    "p=400\n",
    "\n",
    "# plt.plot(df.index[-600:], df['Return'].tail(600), color = 'grey', label = 'Realized Returns')\n",
    "plt.plot(df.index[-p:], df['VOL1'].tail(p), color = 'blue', label = 'Actual VOL1')\n",
    "plt.plot(y_test.index[-p:], prediction_df[-p:], color = 'red', label = 'GARCH')\n",
    "plt.title('Volatility Prediction (GARCH)')\n",
    "plt.xlabel('Time')\n",
    "plt.ylabel('Volatility')\n",
    "plt.legend()\n",
    "plt.grid(True)\n",
    "plt.show()"
   ]
  },
  {
   "cell_type": "code",
   "execution_count": 337,
   "metadata": {},
   "outputs": [],
   "source": [
    "prediction_df.to_csv('GARCH.csv')"
   ]
  },
  {
   "cell_type": "code",
   "execution_count": null,
   "metadata": {},
   "outputs": [],
   "source": [
    "# RMSE\n",
    "from sklearn.metrics import mean_squared_error\n",
    "import numpy as np\n",
    "def rmse(y_true, y_pred):\n",
    "    return np.sqrt(mean_squared_error(y_true, y_pred))\n",
    "\n",
    "# MAPE\n",
    "def mape(y_true, y_pred):\n",
    "    return np.mean(np.abs((y_true - y_pred) / y_true)) * 100\n",
    "\n",
    "#NMSE\n",
    "def nmse(y_true, y_pred):\n",
    "    mse = mean_squared_error(y_true, y_pred)\n",
    "    variance = np.var(y_true)\n",
    "    return mse / variance\n",
    "\n",
    "#DA\n",
    "def DA(y_true, y_pred):\n",
    "    # Convert the arrays to numpy arrays\n",
    "    y_true = np.array(y_true)\n",
    "    y_pred = np.array(y_pred)\n",
    "\n",
    "    # Calculate the direction of change\n",
    "    true_direction = np.sign(np.diff(y_true))\n",
    "    pred_direction = np.sign(np.diff(y_pred))\n",
    "    \n",
    "    # Compare directions\n",
    "    correct_direction = np.sum(true_direction == pred_direction)\n",
    "    total_direction = len(true_direction)\n",
    "    \n",
    "    # Calculate directional accuracy\n",
    "    da = correct_direction / total_direction * 100\n",
    "    \n",
    "    return da\n",
    "\n",
    "y_true = np.array(conditional_volatility[-len(prediction_df):])\n",
    "y_predi = np.array(prediction_df).flatten() \n",
    "\n",
    "print(\"RMSE: \", rmse(y_true, y_predi))\n",
    "print(\"MAPE: \", mape(y_true, y_predi))\n",
    "print(\"NMSE: \", nmse(y_true, y_predi))\n",
    "print(\"DA: \", DA(y_true, y_predi))"
   ]
  },
  {
   "cell_type": "code",
   "execution_count": null,
   "metadata": {},
   "outputs": [],
   "source": [
    "fig, ax = plt.subplots(2, 1, figsize=(10, 6), dpi=300)\n",
    "\n",
    "# Plot ACF\n",
    "plot_acf(df['Return'], lags=100, ax=ax[0])\n",
    "ax[0].set_title('ACF (Autocorrelation Function)')\n",
    "ax[0].set_ylim(-0.1, 0.1)\n",
    "\n",
    "# Plot PACF\n",
    "plot_pacf(df['Return'], lags=100, ax=ax[1])\n",
    "ax[1].set_title('PACF (Partial Autocorrelation Function)')\n",
    "ax[1].set_ylim(-0.1, 0.1)\n",
    "\n",
    "plt.tight_layout()\n",
    "plt.show()"
   ]
  }
 ],
 "metadata": {
  "kernelspec": {
   "display_name": "Python 3",
   "language": "python",
   "name": "python3"
  },
  "language_info": {
   "codemirror_mode": {
    "name": "ipython",
    "version": 3
   },
   "file_extension": ".py",
   "mimetype": "text/x-python",
   "name": "python",
   "nbconvert_exporter": "python",
   "pygments_lexer": "ipython3",
   "version": "3.11.4"
  }
 },
 "nbformat": 4,
 "nbformat_minor": 2
}
