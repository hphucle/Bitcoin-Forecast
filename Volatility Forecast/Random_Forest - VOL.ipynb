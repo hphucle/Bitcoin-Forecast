{
  "cells": [
    {
      "cell_type": "code",
      "execution_count": 795,
      "metadata": {
        "colab": {
          "base_uri": "https://localhost:8080/"
        },
        "id": "_cKiExrJZxir",
        "outputId": "3e125b07-3a43-43e3-e17a-839d3bced47f"
      },
      "outputs": [
        {
          "data": {
            "text/plain": [
              "Index(['Date', 'Month', 'Year', 'VOL1', 'VOL7', 'VOL30', 'ClosePrice ',\n",
              "       'OpenPrice', 'HighPrice', 'LowPrice', 'Market Volumn', 'DirectionNo',\n",
              "       'Direction', 'Average Block Size', 'Average Transaction Per Block',\n",
              "       'Hash Rate', 'Network Difficulty', 'Unique Addresses',\n",
              "       'Transactions Per Second', 'SP500', 'RUSSELL', 'Oil', 'Gold', 'Silver',\n",
              "       'USDEUR', 'USDYUAN', 'Interest Rate', 'Economic Uncertainty',\n",
              "       'Crypto Index'],\n",
              "      dtype='object')"
            ]
          },
          "execution_count": 795,
          "metadata": {},
          "output_type": "execute_result"
        }
      ],
      "source": [
        "import pandas as pd\n",
        "df1 = pd.read_csv('BTC_Trial_NB1.csv')\n",
        "df1.columns"
      ]
    },
    {
      "cell_type": "code",
      "execution_count": 796,
      "metadata": {
        "colab": {
          "base_uri": "https://localhost:8080/",
          "height": 371
        },
        "id": "rai2u4d5Z2d_",
        "outputId": "60071d52-a640-4b86-d7f9-309d3fc94c34"
      },
      "outputs": [
        {
          "data": {
            "text/html": [
              "<div>\n",
              "<style scoped>\n",
              "    .dataframe tbody tr th:only-of-type {\n",
              "        vertical-align: middle;\n",
              "    }\n",
              "\n",
              "    .dataframe tbody tr th {\n",
              "        vertical-align: top;\n",
              "    }\n",
              "\n",
              "    .dataframe thead th {\n",
              "        text-align: right;\n",
              "    }\n",
              "</style>\n",
              "<table border=\"1\" class=\"dataframe\">\n",
              "  <thead>\n",
              "    <tr style=\"text-align: right;\">\n",
              "      <th></th>\n",
              "      <th>Date</th>\n",
              "      <th>Month</th>\n",
              "      <th>Year</th>\n",
              "      <th>VOL1</th>\n",
              "      <th>VOL7</th>\n",
              "      <th>VOL30</th>\n",
              "      <th>ClosePrice</th>\n",
              "      <th>OpenPrice</th>\n",
              "      <th>HighPrice</th>\n",
              "      <th>LowPrice</th>\n",
              "      <th>...</th>\n",
              "      <th>SP500</th>\n",
              "      <th>RUSSELL</th>\n",
              "      <th>Oil</th>\n",
              "      <th>Gold</th>\n",
              "      <th>Silver</th>\n",
              "      <th>USDEUR</th>\n",
              "      <th>USDYUAN</th>\n",
              "      <th>Interest Rate</th>\n",
              "      <th>Economic Uncertainty</th>\n",
              "      <th>Crypto Index</th>\n",
              "    </tr>\n",
              "    <tr>\n",
              "      <th>Date</th>\n",
              "      <th></th>\n",
              "      <th></th>\n",
              "      <th></th>\n",
              "      <th></th>\n",
              "      <th></th>\n",
              "      <th></th>\n",
              "      <th></th>\n",
              "      <th></th>\n",
              "      <th></th>\n",
              "      <th></th>\n",
              "      <th></th>\n",
              "      <th></th>\n",
              "      <th></th>\n",
              "      <th></th>\n",
              "      <th></th>\n",
              "      <th></th>\n",
              "      <th></th>\n",
              "      <th></th>\n",
              "      <th></th>\n",
              "      <th></th>\n",
              "      <th></th>\n",
              "    </tr>\n",
              "  </thead>\n",
              "  <tbody>\n",
              "    <tr>\n",
              "      <th>2018-02-04</th>\n",
              "      <td>04/02/2018</td>\n",
              "      <td>2</td>\n",
              "      <td>2018</td>\n",
              "      <td>0.058984</td>\n",
              "      <td>0.104624</td>\n",
              "      <td>0.204218</td>\n",
              "      <td>8277.01</td>\n",
              "      <td>9175.70</td>\n",
              "      <td>9334.87</td>\n",
              "      <td>8031.22</td>\n",
              "      <td>...</td>\n",
              "      <td>2648.94</td>\n",
              "      <td>1491.09</td>\n",
              "      <td>64.18</td>\n",
              "      <td>1336.5</td>\n",
              "      <td>16.71</td>\n",
              "      <td>0.80</td>\n",
              "      <td>6.30</td>\n",
              "      <td>1.80</td>\n",
              "      <td>0.234505</td>\n",
              "      <td>30</td>\n",
              "    </tr>\n",
              "    <tr>\n",
              "      <th>2018-02-05</th>\n",
              "      <td>05/02/2018</td>\n",
              "      <td>2</td>\n",
              "      <td>2018</td>\n",
              "      <td>0.082982</td>\n",
              "      <td>0.130688</td>\n",
              "      <td>0.219808</td>\n",
              "      <td>6955.27</td>\n",
              "      <td>8270.54</td>\n",
              "      <td>8364.84</td>\n",
              "      <td>6756.68</td>\n",
              "      <td>...</td>\n",
              "      <td>2648.94</td>\n",
              "      <td>1491.09</td>\n",
              "      <td>64.18</td>\n",
              "      <td>1336.5</td>\n",
              "      <td>16.67</td>\n",
              "      <td>0.80</td>\n",
              "      <td>6.31</td>\n",
              "      <td>1.80</td>\n",
              "      <td>0.248054</td>\n",
              "      <td>15</td>\n",
              "    </tr>\n",
              "    <tr>\n",
              "      <th>2018-02-06</th>\n",
              "      <td>06/02/2018</td>\n",
              "      <td>2</td>\n",
              "      <td>2018</td>\n",
              "      <td>0.041061</td>\n",
              "      <td>0.134668</td>\n",
              "      <td>0.221316</td>\n",
              "      <td>7754.00</td>\n",
              "      <td>7051.75</td>\n",
              "      <td>7850.70</td>\n",
              "      <td>6048.26</td>\n",
              "      <td>...</td>\n",
              "      <td>2695.14</td>\n",
              "      <td>1507.17</td>\n",
              "      <td>63.48</td>\n",
              "      <td>1329.5</td>\n",
              "      <td>16.58</td>\n",
              "      <td>0.81</td>\n",
              "      <td>6.29</td>\n",
              "      <td>1.82</td>\n",
              "      <td>0.223228</td>\n",
              "      <td>40</td>\n",
              "    </tr>\n",
              "    <tr>\n",
              "      <th>2018-02-07</th>\n",
              "      <td>07/02/2018</td>\n",
              "      <td>2</td>\n",
              "      <td>2018</td>\n",
              "      <td>0.041213</td>\n",
              "      <td>0.136422</td>\n",
              "      <td>0.222866</td>\n",
              "      <td>7621.30</td>\n",
              "      <td>7755.49</td>\n",
              "      <td>8509.11</td>\n",
              "      <td>7236.79</td>\n",
              "      <td>...</td>\n",
              "      <td>2681.66</td>\n",
              "      <td>1507.97</td>\n",
              "      <td>61.91</td>\n",
              "      <td>1314.6</td>\n",
              "      <td>16.24</td>\n",
              "      <td>0.81</td>\n",
              "      <td>6.28</td>\n",
              "      <td>1.85</td>\n",
              "      <td>0.201785</td>\n",
              "      <td>24</td>\n",
              "    </tr>\n",
              "    <tr>\n",
              "      <th>2018-02-08</th>\n",
              "      <td>08/02/2018</td>\n",
              "      <td>2</td>\n",
              "      <td>2018</td>\n",
              "      <td>0.030796</td>\n",
              "      <td>0.130387</td>\n",
              "      <td>0.222486</td>\n",
              "      <td>8265.59</td>\n",
              "      <td>7637.86</td>\n",
              "      <td>8558.77</td>\n",
              "      <td>7637.86</td>\n",
              "      <td>...</td>\n",
              "      <td>2581.00</td>\n",
              "      <td>1463.79</td>\n",
              "      <td>61.30</td>\n",
              "      <td>1319.0</td>\n",
              "      <td>16.34</td>\n",
              "      <td>0.82</td>\n",
              "      <td>6.27</td>\n",
              "      <td>1.85</td>\n",
              "      <td>0.183604</td>\n",
              "      <td>11</td>\n",
              "    </tr>\n",
              "  </tbody>\n",
              "</table>\n",
              "<p>5 rows × 29 columns</p>\n",
              "</div>"
            ],
            "text/plain": [
              "                  Date  Month  Year      VOL1      VOL7     VOL30  \\\n",
              "Date                                                                \n",
              "2018-02-04  04/02/2018      2  2018  0.058984  0.104624  0.204218   \n",
              "2018-02-05  05/02/2018      2  2018  0.082982  0.130688  0.219808   \n",
              "2018-02-06  06/02/2018      2  2018  0.041061  0.134668  0.221316   \n",
              "2018-02-07  07/02/2018      2  2018  0.041213  0.136422  0.222866   \n",
              "2018-02-08  08/02/2018      2  2018  0.030796  0.130387  0.222486   \n",
              "\n",
              "            ClosePrice   OpenPrice  HighPrice  LowPrice  ...    SP500  \\\n",
              "Date                                                     ...            \n",
              "2018-02-04      8277.01    9175.70    9334.87   8031.22  ...  2648.94   \n",
              "2018-02-05      6955.27    8270.54    8364.84   6756.68  ...  2648.94   \n",
              "2018-02-06      7754.00    7051.75    7850.70   6048.26  ...  2695.14   \n",
              "2018-02-07      7621.30    7755.49    8509.11   7236.79  ...  2681.66   \n",
              "2018-02-08      8265.59    7637.86    8558.77   7637.86  ...  2581.00   \n",
              "\n",
              "            RUSSELL    Oil    Gold  Silver  USDEUR  USDYUAN  Interest Rate  \\\n",
              "Date                                                                         \n",
              "2018-02-04  1491.09  64.18  1336.5   16.71    0.80     6.30           1.80   \n",
              "2018-02-05  1491.09  64.18  1336.5   16.67    0.80     6.31           1.80   \n",
              "2018-02-06  1507.17  63.48  1329.5   16.58    0.81     6.29           1.82   \n",
              "2018-02-07  1507.97  61.91  1314.6   16.24    0.81     6.28           1.85   \n",
              "2018-02-08  1463.79  61.30  1319.0   16.34    0.82     6.27           1.85   \n",
              "\n",
              "            Economic Uncertainty  Crypto Index  \n",
              "Date                                            \n",
              "2018-02-04              0.234505            30  \n",
              "2018-02-05              0.248054            15  \n",
              "2018-02-06              0.223228            40  \n",
              "2018-02-07              0.201785            24  \n",
              "2018-02-08              0.183604            11  \n",
              "\n",
              "[5 rows x 29 columns]"
            ]
          },
          "execution_count": 796,
          "metadata": {},
          "output_type": "execute_result"
        }
      ],
      "source": [
        "df1.index = pd.to_datetime(df1['Date'], format='%d/%m/%Y')\n",
        "df1.head()"
      ]
    },
    {
      "cell_type": "code",
      "execution_count": 797,
      "metadata": {
        "id": "cLGMm6jJZ46X"
      },
      "outputs": [],
      "source": [
        "df = df1.drop(['Date', 'Network Difficulty','DirectionNo'],axis=1)"
      ]
    },
    {
      "cell_type": "code",
      "execution_count": 798,
      "metadata": {
        "colab": {
          "base_uri": "https://localhost:8080/"
        },
        "id": "4iykNQv_J1yP",
        "outputId": "a0102f75-eb1a-447f-b562-e9b17f29f9b7"
      },
      "outputs": [
        {
          "data": {
            "text/plain": [
              "(2310, 26)"
            ]
          },
          "execution_count": 798,
          "metadata": {},
          "output_type": "execute_result"
        }
      ],
      "source": [
        "df.shape"
      ]
    },
    {
      "cell_type": "code",
      "execution_count": 799,
      "metadata": {
        "id": "qMwNDMVw6zvB"
      },
      "outputs": [
        {
          "name": "stderr",
          "output_type": "stream",
          "text": [
            "C:\\Users\\DELL\\AppData\\Local\\Temp\\ipykernel_8676\\34165455.py:17: PerformanceWarning: DataFrame is highly fragmented.  This is usually the result of calling `frame.insert` many times, which has poor performance.  Consider joining all columns at once using pd.concat(axis=1) instead. To get a de-fragmented frame, use `newframe = frame.copy()`\n",
            "  df[f'{column}_lag{lag}'] = df[column].shift(lag)\n",
            "C:\\Users\\DELL\\AppData\\Local\\Temp\\ipykernel_8676\\34165455.py:17: PerformanceWarning: DataFrame is highly fragmented.  This is usually the result of calling `frame.insert` many times, which has poor performance.  Consider joining all columns at once using pd.concat(axis=1) instead. To get a de-fragmented frame, use `newframe = frame.copy()`\n",
            "  df[f'{column}_lag{lag}'] = df[column].shift(lag)\n",
            "C:\\Users\\DELL\\AppData\\Local\\Temp\\ipykernel_8676\\34165455.py:17: PerformanceWarning: DataFrame is highly fragmented.  This is usually the result of calling `frame.insert` many times, which has poor performance.  Consider joining all columns at once using pd.concat(axis=1) instead. To get a de-fragmented frame, use `newframe = frame.copy()`\n",
            "  df[f'{column}_lag{lag}'] = df[column].shift(lag)\n",
            "C:\\Users\\DELL\\AppData\\Local\\Temp\\ipykernel_8676\\34165455.py:17: PerformanceWarning: DataFrame is highly fragmented.  This is usually the result of calling `frame.insert` many times, which has poor performance.  Consider joining all columns at once using pd.concat(axis=1) instead. To get a de-fragmented frame, use `newframe = frame.copy()`\n",
            "  df[f'{column}_lag{lag}'] = df[column].shift(lag)\n",
            "C:\\Users\\DELL\\AppData\\Local\\Temp\\ipykernel_8676\\34165455.py:17: PerformanceWarning: DataFrame is highly fragmented.  This is usually the result of calling `frame.insert` many times, which has poor performance.  Consider joining all columns at once using pd.concat(axis=1) instead. To get a de-fragmented frame, use `newframe = frame.copy()`\n",
            "  df[f'{column}_lag{lag}'] = df[column].shift(lag)\n",
            "C:\\Users\\DELL\\AppData\\Local\\Temp\\ipykernel_8676\\34165455.py:17: PerformanceWarning: DataFrame is highly fragmented.  This is usually the result of calling `frame.insert` many times, which has poor performance.  Consider joining all columns at once using pd.concat(axis=1) instead. To get a de-fragmented frame, use `newframe = frame.copy()`\n",
            "  df[f'{column}_lag{lag}'] = df[column].shift(lag)\n",
            "C:\\Users\\DELL\\AppData\\Local\\Temp\\ipykernel_8676\\34165455.py:17: PerformanceWarning: DataFrame is highly fragmented.  This is usually the result of calling `frame.insert` many times, which has poor performance.  Consider joining all columns at once using pd.concat(axis=1) instead. To get a de-fragmented frame, use `newframe = frame.copy()`\n",
            "  df[f'{column}_lag{lag}'] = df[column].shift(lag)\n",
            "C:\\Users\\DELL\\AppData\\Local\\Temp\\ipykernel_8676\\34165455.py:17: PerformanceWarning: DataFrame is highly fragmented.  This is usually the result of calling `frame.insert` many times, which has poor performance.  Consider joining all columns at once using pd.concat(axis=1) instead. To get a de-fragmented frame, use `newframe = frame.copy()`\n",
            "  df[f'{column}_lag{lag}'] = df[column].shift(lag)\n",
            "C:\\Users\\DELL\\AppData\\Local\\Temp\\ipykernel_8676\\34165455.py:17: PerformanceWarning: DataFrame is highly fragmented.  This is usually the result of calling `frame.insert` many times, which has poor performance.  Consider joining all columns at once using pd.concat(axis=1) instead. To get a de-fragmented frame, use `newframe = frame.copy()`\n",
            "  df[f'{column}_lag{lag}'] = df[column].shift(lag)\n",
            "C:\\Users\\DELL\\AppData\\Local\\Temp\\ipykernel_8676\\34165455.py:17: PerformanceWarning: DataFrame is highly fragmented.  This is usually the result of calling `frame.insert` many times, which has poor performance.  Consider joining all columns at once using pd.concat(axis=1) instead. To get a de-fragmented frame, use `newframe = frame.copy()`\n",
            "  df[f'{column}_lag{lag}'] = df[column].shift(lag)\n",
            "C:\\Users\\DELL\\AppData\\Local\\Temp\\ipykernel_8676\\34165455.py:17: PerformanceWarning: DataFrame is highly fragmented.  This is usually the result of calling `frame.insert` many times, which has poor performance.  Consider joining all columns at once using pd.concat(axis=1) instead. To get a de-fragmented frame, use `newframe = frame.copy()`\n",
            "  df[f'{column}_lag{lag}'] = df[column].shift(lag)\n",
            "C:\\Users\\DELL\\AppData\\Local\\Temp\\ipykernel_8676\\34165455.py:17: PerformanceWarning: DataFrame is highly fragmented.  This is usually the result of calling `frame.insert` many times, which has poor performance.  Consider joining all columns at once using pd.concat(axis=1) instead. To get a de-fragmented frame, use `newframe = frame.copy()`\n",
            "  df[f'{column}_lag{lag}'] = df[column].shift(lag)\n",
            "C:\\Users\\DELL\\AppData\\Local\\Temp\\ipykernel_8676\\34165455.py:17: PerformanceWarning: DataFrame is highly fragmented.  This is usually the result of calling `frame.insert` many times, which has poor performance.  Consider joining all columns at once using pd.concat(axis=1) instead. To get a de-fragmented frame, use `newframe = frame.copy()`\n",
            "  df[f'{column}_lag{lag}'] = df[column].shift(lag)\n",
            "C:\\Users\\DELL\\AppData\\Local\\Temp\\ipykernel_8676\\34165455.py:17: PerformanceWarning: DataFrame is highly fragmented.  This is usually the result of calling `frame.insert` many times, which has poor performance.  Consider joining all columns at once using pd.concat(axis=1) instead. To get a de-fragmented frame, use `newframe = frame.copy()`\n",
            "  df[f'{column}_lag{lag}'] = df[column].shift(lag)\n",
            "C:\\Users\\DELL\\AppData\\Local\\Temp\\ipykernel_8676\\34165455.py:17: PerformanceWarning: DataFrame is highly fragmented.  This is usually the result of calling `frame.insert` many times, which has poor performance.  Consider joining all columns at once using pd.concat(axis=1) instead. To get a de-fragmented frame, use `newframe = frame.copy()`\n",
            "  df[f'{column}_lag{lag}'] = df[column].shift(lag)\n"
          ]
        }
      ],
      "source": [
        "import pandas as pd\n",
        "\n",
        "columns_to_lag_1_7 = ['VOL1', 'ClosePrice ','OpenPrice', 'HighPrice', 'LowPrice', 'Market Volumn']\n",
        "columns_to_lag_1_2 = ['Average Block Size', 'Average Transaction Per Block', 'Hash Rate',\n",
        "    'Transactions Per Second', 'SP500', 'RUSSELL',\n",
        "    'Oil', 'Gold', 'Silver', 'USDEUR', 'USDYUAN', 'Interest Rate',\n",
        "    'Economic Uncertainty', 'Crypto Index']\n",
        "\n",
        "# Create lagged features for 1-7 lags for 'VOL1' and 'ClosePrice'\n",
        "for column in columns_to_lag_1_7:\n",
        "    for lag in range(1, 8):\n",
        "        df[f'{column}_lag{lag}'] = df[column].shift(lag)\n",
        "\n",
        "# Create lagged features for 1-2 lags for the rest of the columns\n",
        "for column in columns_to_lag_1_2:\n",
        "    for lag in range(0, 5):\n",
        "        df[f'{column}_lag{lag}'] = df[column].shift(lag)\n",
        "\n",
        "# Include the original 'VOL1' and 'ClosePrice' columns\n",
        "new_df = df[['VOL1', 'ClosePrice ','Direction','Month', 'Year'] + [f'{col}_lag{lag}' for col in columns_to_lag_1_7 for lag in range(1, 8)] + [f'{col}_lag{lag}' for col in columns_to_lag_1_2 for lag in range(0, 5)]]\n",
        "\n",
        "# Drop rows with NaN values created due to lagging\n",
        "new_df = new_df.dropna()"
      ]
    },
    {
      "cell_type": "code",
      "execution_count": 800,
      "metadata": {
        "colab": {
          "base_uri": "https://localhost:8080/"
        },
        "id": "cxCtHozb71Ol",
        "outputId": "90de4d80-47cf-429c-d74c-17c1dc25c730"
      },
      "outputs": [
        {
          "data": {
            "text/plain": [
              "Index(['VOL1', 'ClosePrice ', 'Direction', 'Month', 'Year', 'VOL1_lag1',\n",
              "       'VOL1_lag2', 'VOL1_lag3', 'VOL1_lag4', 'VOL1_lag5',\n",
              "       ...\n",
              "       'Economic Uncertainty_lag0', 'Economic Uncertainty_lag1',\n",
              "       'Economic Uncertainty_lag2', 'Economic Uncertainty_lag3',\n",
              "       'Economic Uncertainty_lag4', 'Crypto Index_lag0', 'Crypto Index_lag1',\n",
              "       'Crypto Index_lag2', 'Crypto Index_lag3', 'Crypto Index_lag4'],\n",
              "      dtype='object', length=117)"
            ]
          },
          "execution_count": 800,
          "metadata": {},
          "output_type": "execute_result"
        }
      ],
      "source": [
        "new_df.columns"
      ]
    },
    {
      "cell_type": "code",
      "execution_count": 801,
      "metadata": {
        "id": "6uZKdVb58w3V"
      },
      "outputs": [],
      "source": [
        "x = new_df.drop(columns = ['ClosePrice ','VOL1','Direction'])\n",
        "y = new_df['Direction']"
      ]
    },
    {
      "cell_type": "code",
      "execution_count": 802,
      "metadata": {
        "id": "Vg_OnV6b9LoZ"
      },
      "outputs": [],
      "source": [
        "from sklearn.model_selection import train_test_split\n",
        "X_train, X_test, y_train, y_test = train_test_split(x, y, test_size=0.2, shuffle=False)"
      ]
    },
    {
      "cell_type": "code",
      "execution_count": 803,
      "metadata": {
        "id": "y5bgLWdbaTwD"
      },
      "outputs": [],
      "source": [
        "from sklearn import preprocessing\n",
        "\n",
        "scaler = preprocessing.MinMaxScaler()\n",
        "X_train_scaled = scaler.fit_transform(X_train)\n",
        "X_test_scaled=scaler.transform(X_test)"
      ]
    },
    {
      "cell_type": "code",
      "execution_count": 804,
      "metadata": {
        "colab": {
          "base_uri": "https://localhost:8080/"
        },
        "id": "sYFoBF-bsbrh",
        "outputId": "f52e9f0e-86a8-42b7-9d73-37a2e7e6634c"
      },
      "outputs": [
        {
          "data": {
            "text/plain": [
              "((1842, 114), (461, 114))"
            ]
          },
          "execution_count": 804,
          "metadata": {},
          "output_type": "execute_result"
        }
      ],
      "source": [
        "X_train_scaled.shape, X_test_scaled.shape"
      ]
    },
    {
      "cell_type": "code",
      "execution_count": 805,
      "metadata": {
        "id": "txLyTAh1seMA"
      },
      "outputs": [],
      "source": [
        "from sklearn.ensemble import RandomForestRegressor\n",
        "from sklearn.ensemble import RandomForestClassifier\n"
      ]
    },
    {
      "cell_type": "code",
      "execution_count": 806,
      "metadata": {},
      "outputs": [],
      "source": [
        "from sklearn.model_selection import cross_val_score\n"
      ]
    },
    {
      "cell_type": "code",
      "execution_count": 807,
      "metadata": {
        "id": "1NIVgREfeol-"
      },
      "outputs": [],
      "source": [
        "rf = RandomForestClassifier(n_estimators=300, random_state = 24)\n",
        "scores = cross_val_score(rf, X_train_scaled, y_train, cv=5, scoring='accuracy')\n",
        "rf.fit(X_train_scaled, y_train)\n",
        "y_pred = rf.predict(X_test_scaled)"
      ]
    },
    {
      "cell_type": "code",
      "execution_count": 808,
      "metadata": {},
      "outputs": [
        {
          "name": "stderr",
          "output_type": "stream",
          "text": [
            "c:\\Users\\DELL\\AppData\\Local\\Programs\\Python\\Python311\\Lib\\site-packages\\sklearn\\metrics\\_classification.py:1531: UndefinedMetricWarning: Precision is ill-defined and being set to 0.0 in labels with no predicted samples. Use `zero_division` parameter to control this behavior.\n",
            "  _warn_prf(average, modifier, f\"{metric.capitalize()} is\", len(result))\n",
            "c:\\Users\\DELL\\AppData\\Local\\Programs\\Python\\Python311\\Lib\\site-packages\\sklearn\\metrics\\_classification.py:1531: UndefinedMetricWarning: Precision is ill-defined and being set to 0.0 in labels with no predicted samples. Use `zero_division` parameter to control this behavior.\n",
            "  _warn_prf(average, modifier, f\"{metric.capitalize()} is\", len(result))\n",
            "c:\\Users\\DELL\\AppData\\Local\\Programs\\Python\\Python311\\Lib\\site-packages\\sklearn\\metrics\\_classification.py:1531: UndefinedMetricWarning: Precision is ill-defined and being set to 0.0 in labels with no predicted samples. Use `zero_division` parameter to control this behavior.\n",
            "  _warn_prf(average, modifier, f\"{metric.capitalize()} is\", len(result))\n"
          ]
        }
      ],
      "source": [
        "from sklearn.metrics import confusion_matrix, classification_report\n",
        "\n",
        "# Assuming y_test and y_pred are available\n",
        "cm = confusion_matrix(y_test, y_pred)\n",
        "report = classification_report(y_test, y_pred, output_dict=True)"
      ]
    },
    {
      "cell_type": "code",
      "execution_count": 809,
      "metadata": {
        "colab": {
          "base_uri": "https://localhost:8080/"
        },
        "id": "LanHNqAXGIwc",
        "outputId": "f89b459a-c08e-452e-d1b1-71ed9a81d056"
      },
      "outputs": [
        {
          "name": "stdout",
          "output_type": "stream",
          "text": [
            "Accuracy: 0.73\n",
            "Precision: 0.69\n",
            "Recall: 0.73\n"
          ]
        },
        {
          "name": "stderr",
          "output_type": "stream",
          "text": [
            "c:\\Users\\DELL\\AppData\\Local\\Programs\\Python\\Python311\\Lib\\site-packages\\sklearn\\metrics\\_classification.py:1531: UndefinedMetricWarning: Precision is ill-defined and being set to 0.0 in labels with no predicted samples. Use `zero_division` parameter to control this behavior.\n",
            "  _warn_prf(average, modifier, f\"{metric.capitalize()} is\", len(result))\n",
            "c:\\Users\\DELL\\AppData\\Local\\Programs\\Python\\Python311\\Lib\\site-packages\\sklearn\\metrics\\_classification.py:1531: UndefinedMetricWarning: Precision is ill-defined and being set to 0.0 in labels with no predicted samples. Use `zero_division` parameter to control this behavior.\n",
            "  _warn_prf(average, modifier, f\"{metric.capitalize()} is\", len(result))\n",
            "c:\\Users\\DELL\\AppData\\Local\\Programs\\Python\\Python311\\Lib\\site-packages\\sklearn\\metrics\\_classification.py:1531: UndefinedMetricWarning: Precision is ill-defined and being set to 0.0 in labels with no predicted samples. Use `zero_division` parameter to control this behavior.\n",
            "  _warn_prf(average, modifier, f\"{metric.capitalize()} is\", len(result))\n"
          ]
        }
      ],
      "source": [
        "from sklearn.metrics import classification_report, accuracy_score\n",
        "\n",
        "# Assuming y_test and y_pred are already defined\n",
        "\n",
        "# Calculate the classification report\n",
        "report = classification_report(y_test, y_pred, output_dict=True)\n",
        "\n",
        "# Extract precision, recall, and accuracy\n",
        "precision = report['weighted avg']['precision']\n",
        "recall = report['weighted avg']['recall']\n",
        "accuracy = accuracy_score(y_test, y_pred)\n",
        "\n",
        "# Display the metrics\n",
        "print(f\"Accuracy: {accuracy:.2f}\")\n",
        "print(f\"Precision: {precision:.2f}\")\n",
        "print(f\"Recall: {recall:.2f}\")\n"
      ]
    },
    {
      "cell_type": "code",
      "execution_count": 810,
      "metadata": {},
      "outputs": [],
      "source": [
        "# RMSE\n",
        "from sklearn.metrics import mean_squared_error\n",
        "import numpy as np\n",
        "def rmse(y_true, y_pred):\n",
        "    return np.sqrt(mean_squared_error(y_true, y_pred))\n",
        "\n",
        "# MAPE\n",
        "def mape(y_true, y_pred):\n",
        "    return np.mean(np.abs((y_true - y_pred) / y_true)) * 100\n",
        "\n",
        "#NMSE\n",
        "def nmse(y_true, y_pred):\n",
        "    mse = mean_squared_error(y_true, y_pred)\n",
        "    variance = np.var(y_true)\n",
        "    return mse / variance\n",
        "\n",
        "#DA\n",
        "def DA(y_true, y_pred):\n",
        "    # Convert the arrays to numpy arrays\n",
        "    y_true = np.array(y_true)\n",
        "    y_pred = np.array(y_pred)\n",
        "\n",
        "    # Calculate the direction of change\n",
        "    true_direction = np.sign(np.diff(y_true))\n",
        "    pred_direction = np.sign(np.diff(y_pred))\n",
        "    \n",
        "    # Compare directions\n",
        "    correct_direction = np.sum(true_direction == pred_direction)\n",
        "    total_direction = len(true_direction)\n",
        "    \n",
        "    # Calculate directional accuracy\n",
        "    da = correct_direction / total_direction * 100\n",
        "    \n",
        "    return da"
      ]
    },
    {
      "cell_type": "code",
      "execution_count": 811,
      "metadata": {},
      "outputs": [],
      "source": [
        "# y_true = y_test\n",
        "# y_predi = y_pred\n",
        "\n",
        "# print(\"RMSE: \", rmse(y_true, y_predi))\n",
        "# print(\"MAPE: \", mape(y_true, y_predi))\n",
        "# print(\"NMSE: \", nmse(y_true, y_predi))\n",
        "# print(\"DA: \", DA(y_true, y_predi))"
      ]
    },
    {
      "cell_type": "code",
      "execution_count": 812,
      "metadata": {
        "colab": {
          "base_uri": "https://localhost:8080/",
          "height": 641
        },
        "id": "0GDp9fuV-xfP",
        "outputId": "5655cb29-ff48-453d-fea3-6fee2bc7b59f"
      },
      "outputs": [
        {
          "data": {
            "image/png": "[encoded data removed]",
            "text/plain": [
              "<Figure size 1200x600 with 1 Axes>"
            ]
          },
          "metadata": {},
          "output_type": "display_data"
        }
      ],
      "source": [
        "import matplotlib.pyplot as plt\n",
        "\n",
        "# Assuming y_test and y_pred are pandas Series with the same index\n",
        "# and you have already set prediction_df.index = y_test.index\n",
        "\n",
        "# Plotting\n",
        "plt.figure(figsize=(12, 6))\n",
        "\n",
        "# Scatter plot for actual values\n",
        "plt.scatter(y_test.index, y_test, label='Actual VOL', color='b', alpha=0.6, marker='o')\n",
        "\n",
        "# Scatter plot for predicted values\n",
        "plt.scatter(y_test.index, y_pred, label='Predicted VOL', color='r', alpha=0.6, marker='x')\n",
        "\n",
        "plt.title('Actual vs Predicted Daily VOL (BTC)')\n",
        "plt.xlabel('Date')  # or another appropriate x-axis label\n",
        "plt.ylabel('VOL')   # or another appropriate y-axis label\n",
        "plt.legend()\n",
        "plt.grid(True)\n",
        "plt.show()\n"
      ]
    },
    {
      "cell_type": "code",
      "execution_count": 813,
      "metadata": {},
      "outputs": [],
      "source": [
        "# from sklearn import metrics\n",
        "\n",
        "# print('Mean Absolute Error (MAE):', metrics.mean_absolute_error(y_test, y_pred))\n",
        "# print('Mean Squared Error (MSE):', metrics.mean_squared_error(y_test, y_pred))\n",
        "# print('Root Mean Squared Error (RMSE):', metrics.mean_squared_error(y_test, y_pred, squared=False))\n",
        "# print('Mean Absolute Percentage Error (MAPE):', metrics.mean_absolute_percentage_error(y_test, y_pred))\n",
        "# print('Explained Variance Score:', metrics.explained_variance_score(y_test, y_pred))\n",
        "# print('Max Error:', metrics.max_error(y_test, y_pred))\n",
        "# print('Mean Squared Log Error:', metrics.mean_squared_log_error(y_test, y_pred))\n",
        "# print('Median Absolute Error:', metrics.median_absolute_error(y_test, y_pred))\n",
        "# print('R^2:', metrics.r2_score(y_test, y_pred))\n",
        "# print('Mean Poisson Deviance:', metrics.mean_poisson_deviance(y_test, y_pred))\n",
        "# print('Mean Gamma Deviance:', metrics.mean_gamma_deviance(y_test, y_pred))"
      ]
    },
    {
      "cell_type": "code",
      "execution_count": 814,
      "metadata": {},
      "outputs": [
        {
          "data": {
            "image/png": "[encoded data removed]",
            "text/plain": [
              "<Figure size 1200x400 with 1 Axes>"
            ]
          },
          "metadata": {},
          "output_type": "display_data"
        }
      ],
      "source": [
        "from sklearn.ensemble import RandomForestRegressor\n",
        "import matplotlib.pyplot as plt\n",
        "import pandas as pd\n",
        "\n",
        "# Get feature importances\n",
        "importances = rf.feature_importances_\n",
        "\n",
        "# Create a DataFrame for feature importances\n",
        "feature_names = x.columns\n",
        "feature_importances_df = pd.DataFrame({\n",
        "    'Feature': feature_names,\n",
        "    'Importance': importances\n",
        "}).sort_values(by='Importance', ascending=False)\n",
        "\n",
        "top_features_df = feature_importances_df.head(10)\n",
        "\n",
        "# Plot top 5 feature importances\n",
        "plt.figure(figsize=(12, 4))\n",
        "plt.barh(top_features_df['Feature'], top_features_df['Importance'])\n",
        "plt.xlabel('Importance')\n",
        "plt.title('Top 10 Feature Importances')\n",
        "plt.gca().invert_yaxis()\n",
        "plt.show()"
      ]
    },
    {
      "cell_type": "code",
      "execution_count": null,
      "metadata": {},
      "outputs": [],
      "source": []
    }
  ],
  "metadata": {
    "colab": {
      "provenance": []
    },
    "kernelspec": {
      "display_name": "Python 3",
      "name": "python3"
    },
    "language_info": {
      "codemirror_mode": {
        "name": "ipython",
        "version": 3
      },
      "file_extension": ".py",
      "mimetype": "text/x-python",
      "name": "python",
      "nbconvert_exporter": "python",
      "pygments_lexer": "ipython3",
      "version": "3.11.4"
    }
  },
  "nbformat": 4,
  "nbformat_minor": 0
}
